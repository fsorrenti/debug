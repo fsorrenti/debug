{
  "cells": [
    {
      "cell_type": "code",
      "execution_count": 2,
      "metadata": {
        "colab": {
          "base_uri": "https://localhost:8080/"
        },
        "id": "KiLG97EV4j_Y",
        "outputId": "cc4bb5f6-5208-47f2-9810-c9d27c972bbe"
      },
      "outputs": [
        {
          "name": "stdout",
          "output_type": "stream",
          "text": [
            "Collecting getdist\n",
            "  Downloading getdist-1.5.4.tar.gz (826 kB)\n",
            "\u001b[2K     \u001b[90m━━━━━━━━━━━━━━━━━━━━━━━━━━━━━━━━━━━━━━━━\u001b[0m \u001b[32m826.6/826.6 kB\u001b[0m \u001b[31m8.0 MB/s\u001b[0m eta \u001b[36m0:00:00\u001b[0m\n",
            "\u001b[?25h  Installing build dependencies ... \u001b[?25l\u001b[?25hdone\n",
            "  Getting requirements to build wheel ... \u001b[?25l\u001b[?25hdone\n",
            "  Preparing metadata (pyproject.toml) ... \u001b[?25l\u001b[?25hdone\n",
            "Requirement already satisfied: numpy>=1.23.0 in /usr/local/lib/python3.10/dist-packages (from getdist) (1.26.4)\n",
            "Requirement already satisfied: matplotlib!=3.5.0,>=2.2.0 in /usr/local/lib/python3.10/dist-packages (from getdist) (3.8.0)\n",
            "Requirement already satisfied: scipy>=1.5 in /usr/local/lib/python3.10/dist-packages (from getdist) (1.13.1)\n",
            "Requirement already satisfied: PyYAML>=5.1 in /usr/local/lib/python3.10/dist-packages (from getdist) (6.0.2)\n",
            "Requirement already satisfied: packaging in /usr/local/lib/python3.10/dist-packages (from getdist) (24.2)\n",
            "Requirement already satisfied: contourpy>=1.0.1 in /usr/local/lib/python3.10/dist-packages (from matplotlib!=3.5.0,>=2.2.0->getdist) (1.3.1)\n",
            "Requirement already satisfied: cycler>=0.10 in /usr/local/lib/python3.10/dist-packages (from matplotlib!=3.5.0,>=2.2.0->getdist) (0.12.1)\n",
            "Requirement already satisfied: fonttools>=4.22.0 in /usr/local/lib/python3.10/dist-packages (from matplotlib!=3.5.0,>=2.2.0->getdist) (4.55.0)\n",
            "Requirement already satisfied: kiwisolver>=1.0.1 in /usr/local/lib/python3.10/dist-packages (from matplotlib!=3.5.0,>=2.2.0->getdist) (1.4.7)\n",
            "Requirement already satisfied: pillow>=6.2.0 in /usr/local/lib/python3.10/dist-packages (from matplotlib!=3.5.0,>=2.2.0->getdist) (11.0.0)\n",
            "Requirement already satisfied: pyparsing>=2.3.1 in /usr/local/lib/python3.10/dist-packages (from matplotlib!=3.5.0,>=2.2.0->getdist) (3.2.0)\n",
            "Requirement already satisfied: python-dateutil>=2.7 in /usr/local/lib/python3.10/dist-packages (from matplotlib!=3.5.0,>=2.2.0->getdist) (2.8.2)\n",
            "Requirement already satisfied: six>=1.5 in /usr/local/lib/python3.10/dist-packages (from python-dateutil>=2.7->matplotlib!=3.5.0,>=2.2.0->getdist) (1.16.0)\n",
            "Building wheels for collected packages: getdist\n",
            "  Building wheel for getdist (pyproject.toml) ... \u001b[?25l\u001b[?25hdone\n",
            "  Created wheel for getdist: filename=getdist-1.5.4-py3-none-any.whl size=810909 sha256=e87576f0c01db69151aa17362f0a0ca008f6e560481fbce24e5784b9d72f2d4a\n",
            "  Stored in directory: /root/.cache/pip/wheels/ed/1f/4b/8b586319345aee601e2c6efaf3038891e4e900d68af4eff79f\n",
            "Successfully built getdist\n",
            "Installing collected packages: getdist\n",
            "Successfully installed getdist-1.5.4\n"
          ]
        }
      ],
      "source": [
        "! pip install getdist\n"
      ]
    },
    {
      "cell_type": "code",
      "execution_count": 3,
      "metadata": {
        "colab": {
          "base_uri": "https://localhost:8080/"
        },
        "id": "pEt2PJ9IfxQI",
        "outputId": "57982c70-79f0-4e5f-b0c2-820a7483a92f"
      },
      "outputs": [
        {
          "name": "stdout",
          "output_type": "stream",
          "text": [
            "Collecting emcee\n",
            "  Downloading emcee-3.1.6-py2.py3-none-any.whl.metadata (3.0 kB)\n",
            "Requirement already satisfied: numpy in /usr/local/lib/python3.10/dist-packages (from emcee) (1.26.4)\n",
            "Downloading emcee-3.1.6-py2.py3-none-any.whl (47 kB)\n",
            "\u001b[?25l   \u001b[90m━━━━━━━━━━━━━━━━━━━━━━━━━━━━━━━━━━━━━━━━\u001b[0m \u001b[32m0.0/47.4 kB\u001b[0m \u001b[31m?\u001b[0m eta \u001b[36m-:--:--\u001b[0m\r\u001b[2K   \u001b[90m━━━━━━━━━━━━━━━━━━━━━━━━━━━━━━━━━━━━━━━━\u001b[0m \u001b[32m47.4/47.4 kB\u001b[0m \u001b[31m1.5 MB/s\u001b[0m eta \u001b[36m0:00:00\u001b[0m\n",
            "\u001b[?25hInstalling collected packages: emcee\n",
            "Successfully installed emcee-3.1.6\n"
          ]
        }
      ],
      "source": [
        "! pip install emcee"
      ]
    },
    {
      "cell_type": "code",
      "execution_count": 4,
      "metadata": {
        "colab": {
          "base_uri": "https://localhost:8080/"
        },
        "id": "fwdN-cvEg8Ju",
        "outputId": "8c13b81e-ec4f-4265-f4ec-cb2c27306b97"
      },
      "outputs": [
        {
          "name": "stdout",
          "output_type": "stream",
          "text": [
            "Cloning into 'debug'...\n",
            "remote: Enumerating objects: 26, done.\u001b[K\n",
            "remote: Counting objects: 100% (26/26), done.\u001b[K\n",
            "remote: Compressing objects: 100% (26/26), done.\u001b[K\n",
            "remote: Total 26 (delta 13), reused 3 (delta 0), pack-reused 0 (from 0)\u001b[K\n",
            "Receiving objects: 100% (26/26), 10.11 MiB | 11.11 MiB/s, done.\n",
            "Resolving deltas: 100% (13/13), done.\n"
          ]
        }
      ],
      "source": [
        "! git clone https://github.com/fsorrenti/debug.git"
      ]
    },
    {
      "cell_type": "code",
      "execution_count": 5,
      "metadata": {
        "colab": {
          "base_uri": "https://localhost:8080/"
        },
        "id": "GreNXtbKgGrr",
        "outputId": "4ca8d8cf-8d04-4c9c-9922-7d38f9f4c4c1"
      },
      "outputs": [
        {
          "name": "stdout",
          "output_type": "stream",
          "text": [
            "/content/debug\n"
          ]
        }
      ],
      "source": [
        "%cd debug"
      ]
    },
    {
      "cell_type": "code",
      "execution_count": 1,
      "metadata": {
        "id": "59cT84_JfvxU"
      },
      "outputs": [],
      "source": [
        "from __future__ import annotations\n",
        "import sys\n",
        "import numpy as np\n",
        "from scipy.stats import multivariate_normal\n",
        "#import dipole_utilities as ut\n",
        "import emcee\n"
      ]
    },
    {
      "cell_type": "code",
      "execution_count": 2,
      "metadata": {
        "id": "mI0Hh4t6fvxY"
      },
      "outputs": [],
      "source": [
        "from astropy.coordinates import SkyCoord, spherical_to_cartesian\n",
        "from astropy import units as u\n",
        "import math as m\n",
        "from scipy import integrate"
      ]
    },
    {
      "cell_type": "code",
      "execution_count": 11,
      "metadata": {
        "colab": {
          "base_uri": "https://localhost:8080/"
        },
        "id": "HqDEoEMvYTDS",
        "outputId": "bfe59a3b-8d96-4181-d510-cef2c2023441"
      },
      "outputs": [
        {
          "name": "stdout",
          "output_type": "stream",
          "text": [
            "Mounted at /content/drive\n"
          ]
        }
      ],
      "source": [
        "from google.colab import drive\n",
        "drive.mount('/content/drive')"
      ]
    },
    {
      "cell_type": "code",
      "execution_count": 3,
      "metadata": {
        "id": "Q-cK_4svfvxY"
      },
      "outputs": [],
      "source": [
        "covf = open(\"Pantheon+SH0ES_STAT+SYS.cov\").readlines()\n",
        "covl = np.array(covf, dtype=\"float\")\n",
        "shape = covl[0]  # si prende la misura in questo modo, geniale\n",
        "covmat = covl[1:].reshape((int(shape), int(shape)))\n",
        "\n",
        "inv=np.linalg.inv(covmat)\n",
        "\n",
        "\n",
        "filtered_data_file = np.genfromtxt(\n",
        "    \"Pantheon+SH0ES.dat\", usecols=(4, 10, 12, 13, 26, 27, 31, 8), skip_header=1\n",
        ")\n",
        "\n",
        "\n",
        "z = filtered_data_file[:, 0]\n",
        "mu = filtered_data_file[:, 1]\n",
        "ceph_dis = filtered_data_file[:, 2]\n",
        "is_cal = filtered_data_file[:, 3]\n",
        "ra = filtered_data_file[:, 4]\n",
        "dec = filtered_data_file[:, 5]\n",
        "v_pec = filtered_data_file[:, 6]\n",
        "m_b = filtered_data_file[:, 7]\n"
      ]
    },
    {
      "cell_type": "code",
      "execution_count": 4,
      "metadata": {
        "id": "YcuTGeUgfvxZ"
      },
      "outputs": [],
      "source": [
        "def integrand(z, H0, Omat):\n",
        "    return 1 / (H0 * m.sqrt(Omat * (1 + z) ** 3 + (1 - Omat)))\n",
        "\n",
        "\n",
        "def dl_monopole(z, H0, Omat):\n",
        "    c = 299792.458\n",
        "    return (\n",
        "        c * (1 + z) * integrate.romberg(integrand, 0, z, args=(H0, Omat))\n",
        "    )  # return quad(integrand, 0, z, args=(H0, Omat, Olam))[0]"
      ]
    },
    {
      "cell_type": "code",
      "execution_count": 5,
      "metadata": {
        "id": "OfaZsA2yfvxZ"
      },
      "outputs": [],
      "source": [
        "def monopole(z, H0, Omat):\n",
        "    return 5 * np.log10((dl_monopole(z, H0, Omat))) + 25"
      ]
    },
    {
      "cell_type": "code",
      "execution_count": 44,
      "metadata": {
        "id": "u7TeyLzDfvxZ"
      },
      "outputs": [],
      "source": [
        "def exp_obs_monopole_with_M(\n",
        "    M, H0, omega_m, mu, z, is_cal, ceph,\n",
        "):\n",
        "    number_of_elements = len(mu)\n",
        "    exp_obs_mon = np.zeros(number_of_elements)\n",
        "   # c=0\n",
        "    for i in range(0, number_of_elements):\n",
        "        if is_cal[i] == 1:\n",
        "            exp_obs_mon[i] = mu[i] + M - ceph[i]\n",
        "            # exp_obs_mon[i]=mu[i]-monopole(z6[i],H0,omega_m)\n",
        "        else:\n",
        "            exp_obs_mon[i] = mu[i] + M - monopole(z[i], H0, omega_m)\n",
        "           # c=c+1\n",
        "\n",
        "    #print(c)\n",
        "\n",
        "    return exp_obs_mon"
      ]
    },
    {
      "cell_type": "code",
      "execution_count": 64,
      "metadata": {
        "id": "MOVuV2Utfvxa"
      },
      "outputs": [],
      "source": [
        "def log_likelihood_agnostic(parameters: list[float], inversed_covariance):\n",
        "\n",
        "    '''the following for the agnostic taylor expansion'''\n",
        "#    d1, d2, d3, dM  = parameters\n",
        "\n",
        "#    res=residual_agnostic_taylor_expansion(d1, d2, d3, dM )\n",
        "\n",
        "  #  z0, d1, d2, d3, dM  = parameters\n",
        "\n",
        "    Omat,dM  = parameters\n",
        "\n",
        "\n",
        "\n",
        "    res=exp_obs_monopole_with_M(dM,72.9, Omat, mu, z, is_cal, ceph_dis)\n",
        "\n",
        "\n",
        "    chi2 = res @ inversed_covariance @ res\n",
        "    return -0.5 * chi2  # normalization is constant so can be omitted\n"
      ]
    },
    {
      "cell_type": "code",
      "execution_count": 65,
      "metadata": {
        "id": "wX9B2T-bfvxa"
      },
      "outputs": [],
      "source": [
        "def log_prior(theta, priors):\n",
        "\n",
        "    \"\"\"\n",
        "    log-prior for the parameters (uniform)\n",
        "    \"\"\"\n",
        "    # theta is the free parameters, priors is a list of two elements\n",
        "    mu, halfwidth = priors\n",
        "    for mu_i, theta_i, halfwidth_i in zip(mu, theta, halfwidth):\n",
        "        if theta_i > mu_i + halfwidth_i or theta_i < mu_i - halfwidth_i:\n",
        "            return -np.inf\n",
        "    return 0\n"
      ]
    },
    {
      "cell_type": "code",
      "execution_count": 66,
      "metadata": {
        "id": "Rz3gVk-sfvxa"
      },
      "outputs": [],
      "source": [
        "def log_probability(parameters: list[float], priors, inversed_covariance):\n",
        "    \"\"\"\n",
        "    log-probability that governs the rate of acceptance for given proposed parameter.\n",
        "    \"\"\"\n",
        "    lp = log_prior(parameters, priors)\n",
        "    if not np.isfinite(lp):\n",
        "        return -np.inf\n",
        "\n",
        "    ll = log_likelihood_agnostic(parameters, inversed_covariance)\n",
        "    if not np.isfinite(ll):\n",
        "        return -np.inf\n",
        "\n",
        "    return lp + ll"
      ]
    },
    {
      "cell_type": "code",
      "execution_count": 67,
      "metadata": {
        "id": "BfJtMixnfvxb"
      },
      "outputs": [],
      "source": [
        "def run_MCMC(\n",
        "    nwalkers,\n",
        "    number_of_steps,\n",
        "    parameters_values,\n",
        "    prior_width,\n",
        "    outpath=None,\n",
        "    contd=None,\n",
        "):\n",
        "    \"\"\"\n",
        "    a wrapper file\n",
        "    \"\"\"\n",
        "\n",
        "    inversed_covariance = inv\n",
        "\n",
        "    # inversed_covariance=inversed_covariance_data\n",
        "\n",
        "\n",
        "\n",
        "    if outpath is None:\n",
        "        outpath = \"./results.h5\"\n",
        "    # load data\n",
        "\n",
        "    # priors\n",
        "    reference_values = np.array(parameters_values, dtype=float)\n",
        "    widths = np.array(prior_width)\n",
        "    priors = [reference_values, widths]\n",
        "\n",
        "    # initial guess array for each walker:\n",
        "    x0 = np.random.uniform(\n",
        "        reference_values - widths,\n",
        "        reference_values + widths,\n",
        "        size=(nwalkers, len(reference_values)),\n",
        "    )\n",
        "    nwalkers, ndim = x0.shape\n",
        "\n",
        "    # save file\n",
        "    backend = emcee.backends.HDFBackend(outpath)\n",
        "    if contd:  # it is true if you want to continue the run\n",
        "        print(f\"initial size: {backend.iteration}\", flush=True)\n",
        "    else:\n",
        "        backend.reset(nwalkers, ndim)\n",
        "\n",
        "        # initialize sampler, run MCMC\n",
        "    sampler = emcee.EnsembleSampler(\n",
        "        nwalkers,\n",
        "        ndim,\n",
        "        log_probability,\n",
        "        args=[priors, inversed_covariance],\n",
        "        backend=backend,\n",
        "    )\n",
        "\n",
        "    if contd:\n",
        "        sampler.run_mcmc(\n",
        "            None, number_of_steps, progress=True, skip_initial_state_check=True\n",
        "        )\n",
        "        print(f\"final size: {backend.iteration}\", flush=True)\n",
        "    else:\n",
        "        sampler.run_mcmc(\n",
        "            x0, number_of_steps, progress=True, skip_initial_state_check=True\n",
        "        )\n"
      ]
    },
    {
      "cell_type": "code",
      "execution_count": 68,
      "metadata": {
        "id": "D1Cl3UJxfvxb"
      },
      "outputs": [],
      "source": [
        "# default output file name\n",
        "OUTPATH = \"test_scratch_72_9.h5\"\n",
        "\n",
        "# MCMC sampler settings\n",
        "N_WALKERS = 32  # number of walkers\n",
        "N_CHAIN = 1400  # length of chain for each walker\n",
        "CONTD = False # set CONTD = True to resume sampling (for specific OUTPATH)\n",
        "# note: keeping CONTD = False may overwrite an existing file.\n",
        "\n",
        "PARAMETERS_VALUES = [0.5,0]#per la mia scelta di angoli il coseno puo' essere solo fra 0 e 1\n",
        "PRIOR_WIDTH = [0.5, 0.5]\n"
      ]
    },
    {
      "cell_type": "code",
      "execution_count": 69,
      "metadata": {
        "colab": {
          "base_uri": "https://localhost:8080/",
          "height": 502
        },
        "id": "CY0u2xT6fvxb",
        "outputId": "25f755c4-3f7c-4505-f4ff-be9545966be2"
      },
      "outputs": [
        {
          "name": "stderr",
          "output_type": "stream",
          "text": [
            "100%|██████████| 1400/1400 [36:10<00:00,  1.55s/it]\n"
          ]
        }
      ],
      "source": [
        "if __name__ == \"__main__\":  # it just execute the function\n",
        "    # load least-square, bets-fit results by default\n",
        "    #\n",
        "    # note:\n",
        "    # Passing manually defined arrays to 'lstsq_results' argument\n",
        "    # and setting PRIOR_WIDTH_RATIO = 0 will allow users to define\n",
        "    # the desired central values and width of the prior manually.\n",
        "    # If you wish to use different (e.g., Gaussian) priors, define\n",
        "    # the analytic Gaussian function in MCMC_utils.py file accordingly.\n",
        "    # q_lstsq, sigma_lstsq = np.loadtxt(lstsq_results_path, unpack=True)\n",
        "\n",
        "    # run MCMC\n",
        "    run_MCMC(\n",
        "        nwalkers=N_WALKERS,\n",
        "        number_of_steps=N_CHAIN,\n",
        "        parameters_values=PARAMETERS_VALUES,\n",
        "        prior_width=PRIOR_WIDTH,\n",
        "        outpath=OUTPATH,\n",
        "        contd=CONTD,\n",
        "    )\n"
      ]
    },
    {
      "cell_type": "code",
      "execution_count": 25,
      "metadata": {
        "id": "9b3oqUmG1w1P"
      },
      "outputs": [],
      "source": [
        "from getdist import plots, MCSamples\n",
        "import matplotlib.pyplot as plt\n",
        "\n",
        "\n",
        "def plot_getdist(\n",
        "    flatchain,\n",
        "    names_parameter,\n",
        "    truth_values=None,\n",
        "    label_legend=None,\n",
        "    name_for_saving=None,\n",
        "    params=None,\n",
        "    fisher=None,\n",
        "    smoothing_1D=None,\n",
        "    smoothing_2D=None,\n",
        "    legend_fontsize=None,\n",
        "    ranges=None,\n",
        "):\n",
        "    \"\"\"\n",
        "    Given a MCMC chain and a set of parameter names, plot the posterior distribution of the parameters.\n",
        "    flatchain: MCMC chain of parameter values\n",
        "    names_parameter: names of parameters (in the same order as in the flatchain array)\n",
        "    truth_values: true parameter values (if known)\n",
        "    label_legend: label to include in the legend\n",
        "    name_for_saving: if specified, save the plot as a file with this name\n",
        "    fisher: if True, interpret the chain as a Fisher matrix instead of a Markov Chain\n",
        "    legend_fontsize: font size for the legend (default is 15)\n",
        "    ranges: dictionary of parameter ranges (optional)\n",
        "    \"\"\"\n",
        "\n",
        "    # Set default values\n",
        "    legend_fontsize = legend_fontsize or 15\n",
        "    smoothing_1D = smoothing_1D or 0.5\n",
        "    smoothing_2D = smoothing_2D or 2.5\n",
        "\n",
        "    # Calculate ranges if not provided\n",
        "    if ranges is None:\n",
        "        ranges = {\n",
        "            name: (\n",
        "                chain[:, i].mean() - 3 * chain[:, i].std(),\n",
        "                chain[:, i].mean() + 3 * chain[:, i].std()\n",
        "            )\n",
        "            for chain in flatchain\n",
        "            for i, name in enumerate(names_parameter)\n",
        "        }\n",
        "\n",
        "    with plt.rc_context({\"mathtext.fontset\": \"cm\", \"font.family\": \"serif\"}):\n",
        "        # Create the plot object and set the plot settings\n",
        "        g = plots.get_subplot_plotter()\n",
        "\n",
        "        # Set global plotting settings\n",
        "        g.settings.legend_fontsize = legend_fontsize\n",
        "        g.settings.axes_fontsize = 18\n",
        "        g.settings.axes_labelsize = 24\n",
        "        g.settings.axis_marker_lw = 1.5\n",
        "        g.settings.axis_marker_color = \"black\"\n",
        "        g.settings.alpha_filled_add = 0.7\n",
        "        g.settings.alpha_factor_contour_lines = 0.7\n",
        "\n",
        "        # Create list of samples from flatchain\n",
        "        samples = [\n",
        "            MCSamples(\n",
        "                samples=chain,\n",
        "                names=names_parameter,\n",
        "                label=label_legend[i] if label_legend else f'Chain {i+1}',\n",
        "                ranges=ranges,\n",
        "                settings={\n",
        "                    \"smooth_scale_1D\": smoothing_1D,\n",
        "                    \"smooth_scale_2D\": smoothing_2D,\n",
        "                },\n",
        "            )\n",
        "            for i, chain in enumerate(flatchain)\n",
        "        ]\n",
        "\n",
        "        # Add fisher samples if given\n",
        "        if fisher is not None:\n",
        "            samples += fisher\n",
        "\n",
        "        # Plot triangle plot with or without truth values\n",
        "        markers = (\n",
        "            {names_parameter[i]: truth_values[i] for i in range(len(names_parameter))}\n",
        "            if truth_values is not None\n",
        "            else None\n",
        "        )\n",
        "\n",
        "        g.triangle_plot(\n",
        "            samples,\n",
        "            filled=True,\n",
        "            markers=markers,\n",
        "            params=params,\n",
        "            contour_colors=[\"tab:blue\", \"tab:orange\", \"tab:green\"],\n",
        "            contour_ls=[\"-\", \"-\", \"-\"],\n",
        "            contour_lws=[1.5, 1.5, 1.5],\n",
        "            legend_loc=\"upper right\",\n",
        "            line_args=[\n",
        "                {\"ls\": \"-\", \"lw\": \"1.5\", \"color\": \"tab:blue\"},\n",
        "                {\"ls\": \"-\", \"lw\": \"1.5\", \"color\": \"tab:orange\"},\n",
        "                {\"ls\": \"-\", \"lw\": \"1.5\", \"color\": \"tab:green\"},\n",
        "            ],\n",
        "            bbox_inches='tight'\n",
        "        )\n",
        "\n",
        "        # Save plot if name_for_saving is given\n",
        "        if name_for_saving is not None:\n",
        "            g.export(name_for_saving)\n",
        "\n",
        "        plt.show()\n",
        "\n",
        "\n",
        "%matplotlib inline\n",
        "plt.close('all')"
      ]
    },
    {
      "cell_type": "code",
      "execution_count": 26,
      "metadata": {
        "colab": {
          "base_uri": "https://localhost:8080/"
        },
        "id": "swk_dCBz1wty",
        "outputId": "83190fca-ecd5-4815-beba-8571ed56e9ca"
      },
      "outputs": [
        {
          "name": "stdout",
          "output_type": "stream",
          "text": [
            "Pantheon+SH0ES.dat          test.ipynb\n",
            "Pantheon+SH0ES_STAT+SYS.cov test_scratch.h5\n"
          ]
        }
      ],
      "source": [
        "! ls"
      ]
    },
    {
      "cell_type": "code",
      "execution_count": 62,
      "metadata": {
        "colab": {
          "base_uri": "https://localhost:8080/",
          "height": 373
        },
        "id": "kO3jnmSzfvxb",
        "outputId": "2672d57b-fa6b-404f-ada8-2d18f36ff273"
      },
      "outputs": [
        {
          "name": "stdout",
          "output_type": "stream",
          "text": [
            "[26.00187544 19.79743517]\n"
          ]
        }
      ],
      "source": [
        "reader = emcee.backends.HDFBackend(\"test_scratch_73_4.h5\")\n",
        "tau = reader.get_autocorr_time()\n",
        "print(tau)\n",
        "burnin = 60\n",
        "burnin = int(2 * np.max(tau))\n",
        "test=reader.get_chain(flat=True, discard=burnin)\n",
        "\n",
        "c=299792.458\n",
        "chi=-2 * reader.get_log_prob(flat=True, discard=burnin)\n"
      ]
    },
    {
      "cell_type": "code",
      "execution_count": 42,
      "metadata": {
        "colab": {
          "base_uri": "https://localhost:8080/",
          "height": 425
        },
        "id": "KcvSjCyM2cf0",
        "outputId": "517f37d3-60b5-4858-c32a-86586e5a8319"
      },
      "outputs": [
        {
          "name": "stdout",
          "output_type": "stream",
          "text": [
            "Removed no burn in\n"
          ]
        },
        {
          "data": {
            "image/png": "[encoded data removed]",
            "text/plain": [
              "<Figure size 600x600 with 6 Axes>"
            ]
          },
          "metadata": {},
          "output_type": "display_data"
        }
      ],
      "source": [
        "plot_getdist([test], names_parameter=[r'$\\Omega_{m}$',r'$H_0$',  r'$dM$'],truth_values=[0.338,73.4,0],smoothing_1D=0.2,smoothing_2D=0.2,)\n",
        "plt.show()"
      ]
    },
    {
      "cell_type": "code",
      "execution_count": null,
      "metadata": {
        "id": "0z_Tn8dE5cUy"
      },
      "outputs": [],
      "source": []
    }
  ],
  "metadata": {
    "colab": {
      "provenance": []
    },
    "kernelspec": {
      "display_name": "base",
      "language": "python",
      "name": "python3"
    },
    "language_info": {
      "codemirror_mode": {
        "name": "ipython",
        "version": 3
      },
      "file_extension": ".py",
      "mimetype": "text/x-python",
      "name": "python",
      "nbconvert_exporter": "python",
      "pygments_lexer": "ipython3",
      "version": "3.11.0"
    }
  },
  "nbformat": 4,
  "nbformat_minor": 0
}

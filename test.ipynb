{
  "cells": [
    {
      "cell_type": "code",
      "execution_count": 2,
      "metadata": {
        "id": "SnE-VlpZfrgI",
        "outputId": "621d5f9f-4007-4178-a8b7-325e34fd5029",
        "colab": {
          "base_uri": "https://localhost:8080/",
          "height": 364
        }
      },
      "outputs": [
        {
          "output_type": "error",
          "ename": "ModuleNotFoundError",
          "evalue": "No module named 'emcee'",
          "traceback": [
            "\u001b[0;31m---------------------------------------------------------------------------\u001b[0m",
            "\u001b[0;31mModuleNotFoundError\u001b[0m                       Traceback (most recent call last)",
            "\u001b[0;32m<ipython-input-2-6f383694d923>\u001b[0m in \u001b[0;36m<cell line: 5>\u001b[0;34m()\u001b[0m\n\u001b[1;32m      3\u001b[0m \u001b[0;32mimport\u001b[0m \u001b[0mnumpy\u001b[0m \u001b[0;32mas\u001b[0m \u001b[0mnp\u001b[0m\u001b[0;34m\u001b[0m\u001b[0;34m\u001b[0m\u001b[0m\n\u001b[1;32m      4\u001b[0m \u001b[0;32mfrom\u001b[0m \u001b[0mscipy\u001b[0m\u001b[0;34m.\u001b[0m\u001b[0mstats\u001b[0m \u001b[0;32mimport\u001b[0m \u001b[0mmultivariate_normal\u001b[0m\u001b[0;34m\u001b[0m\u001b[0;34m\u001b[0m\u001b[0m\n\u001b[0;32m----> 5\u001b[0;31m \u001b[0;32mimport\u001b[0m \u001b[0memcee\u001b[0m\u001b[0;34m\u001b[0m\u001b[0;34m\u001b[0m\u001b[0m\n\u001b[0m",
            "\u001b[0;31mModuleNotFoundError\u001b[0m: No module named 'emcee'",
            "",
            "\u001b[0;31m---------------------------------------------------------------------------\u001b[0;32m\nNOTE: If your import is failing due to a missing package, you can\nmanually install dependencies using either !pip or !apt.\n\nTo view examples of installing some common dependencies, click the\n\"Open Examples\" button below.\n\u001b[0;31m---------------------------------------------------------------------------\u001b[0m\n"
          ],
          "errorDetails": {
            "actions": [
              {
                "action": "open_url",
                "actionText": "Open Examples",
                "url": "/notebooks/snippets/importing_libraries.ipynb"
              }
            ]
          }
        }
      ],
      "source": [
        "from __future__ import annotations\n",
        "import sys\n",
        "import numpy as np\n",
        "from scipy.stats import multivariate_normal\n",
        "import emcee\n"
      ]
    },
    {
      "cell_type": "code",
      "execution_count": null,
      "metadata": {
        "id": "eFQAEamOfrgK"
      },
      "outputs": [],
      "source": [
        "from astropy.coordinates import SkyCoord, spherical_to_cartesian\n",
        "from astropy import units as u\n",
        "import math as m\n",
        "from scipy import integrate"
      ]
    },
    {
      "cell_type": "code",
      "execution_count": null,
      "metadata": {
        "id": "8_dvgaA_frgL"
      },
      "outputs": [],
      "source": [
        "covf = open(\"Pantheon+SH0ES_STAT+SYS.cov\").readlines()\n",
        "covl = np.array(covf, dtype=\"float\")\n",
        "shape = covl[0]  # si prende la misura in questo modo, geniale\n",
        "covmat = covl[1:].reshape((int(shape), int(shape)))\n",
        "\n",
        "inv=np.linalg.inv(covmat)\n",
        "\n",
        "\n",
        "filtered_data_file = np.genfromtxt(\n",
        "    \"Pantheon+SH0ES.dat\", usecols=(4, 10, 12, 13, 26, 27, 31, 8), skip_header=1\n",
        ")\n",
        "\n",
        "\n",
        "z = filtered_data_file[:, 0]\n",
        "mu = filtered_data_file[:, 1]\n",
        "ceph_dis = filtered_data_file[:, 2]\n",
        "is_cal = filtered_data_file[:, 3]\n",
        "ra = filtered_data_file[:, 4]\n",
        "dec = filtered_data_file[:, 5]\n",
        "v_pec = filtered_data_file[:, 6]\n",
        "m_b = filtered_data_file[:, 7]\n"
      ]
    },
    {
      "cell_type": "code",
      "execution_count": null,
      "metadata": {
        "id": "pUUBPLwDfrgL"
      },
      "outputs": [],
      "source": [
        "def integrand(z, H0, Omat):\n",
        "    return 1 / (H0 * m.sqrt(Omat * (1 + z) ** 3 + (1 - Omat)))\n",
        "\n",
        "\n",
        "def dl_monopole(z, H0, Omat):\n",
        "    c = 299792.458\n",
        "    return (\n",
        "        c * (1 + z) * integrate.romberg(integrand, 0, z, args=(H0, Omat))\n",
        "    )  # return quad(integrand, 0, z, args=(H0, Omat, Olam))[0]"
      ]
    },
    {
      "cell_type": "code",
      "execution_count": null,
      "metadata": {
        "id": "7Ej2MzzrfrgM"
      },
      "outputs": [],
      "source": [
        "def monopole(z, H0, Omat):\n",
        "    return 5 * np.log10((dl_monopole(z, H0, Omat))) + 25"
      ]
    },
    {
      "cell_type": "code",
      "execution_count": null,
      "metadata": {
        "id": "IkqNsOtbfrgM"
      },
      "outputs": [],
      "source": [
        "def exp_obs_monopole_with_M(\n",
        "    M, H0, omega_m, mu, z, is_cal, ceph,\n",
        "):\n",
        "    number_of_elements = len(mu)\n",
        "    exp_obs_mon = np.zeros(number_of_elements)\n",
        "\n",
        "    for i in range(0, number_of_elements):\n",
        "        if is_cal[i] == 1:\n",
        "            exp_obs_mon[i] = mu[i] + M - ceph[i]\n",
        "            # exp_obs_mon[i]=mu[i]-monopole(z6[i],H0,omega_m)\n",
        "        else:\n",
        "            exp_obs_mon[i] = mu[i] + M - ut.monopole(z[i], H0, omega_m)\n",
        "\n",
        "    return exp_obs_mon"
      ]
    },
    {
      "cell_type": "code",
      "execution_count": null,
      "metadata": {
        "id": "Fm6WUMMOfrgM"
      },
      "outputs": [],
      "source": [
        "def log_likelihood_agnostic(parameters: list[float], inversed_covariance):\n",
        "\n",
        "    '''the following for the agnostic taylor expansion'''\n",
        "#    d1, d2, d3, dM  = parameters\n",
        "\n",
        "#    res=residual_agnostic_taylor_expansion(d1, d2, d3, dM )\n",
        "\n",
        "  #  z0, d1, d2, d3, dM  = parameters\n",
        "\n",
        "    Omat,dM  = parameters\n",
        "\n",
        "\n",
        "\n",
        "    res=exp_obs_monopole_with_M(dM,73.4, Omat, mu, z, is_cal, ceph_dis)\n",
        "\n",
        "\n",
        "    chi2 = res @ inversed_covariance @ res\n",
        "    return -0.5 * chi2  # normalization is constant so can be omitted\n"
      ]
    },
    {
      "cell_type": "code",
      "execution_count": null,
      "metadata": {
        "id": "WfAbqX30frgM"
      },
      "outputs": [],
      "source": [
        "def log_prior(theta, priors):\n",
        "\n",
        "    \"\"\"\n",
        "    log-prior for the parameters (uniform)\n",
        "    \"\"\"\n",
        "    # theta is the free parameters, priors is a list of two elements\n",
        "    mu, halfwidth = priors\n",
        "    for mu_i, theta_i, halfwidth_i in zip(mu, theta, halfwidth):\n",
        "        if theta_i > mu_i + halfwidth_i or theta_i < mu_i - halfwidth_i:\n",
        "            return -np.inf\n",
        "    return 0\n"
      ]
    },
    {
      "cell_type": "code",
      "execution_count": null,
      "metadata": {
        "id": "cpbj_ghqfrgM"
      },
      "outputs": [],
      "source": [
        "def log_probability(parameters: list[float], priors, inversed_covariance):\n",
        "    \"\"\"\n",
        "    log-probability that governs the rate of acceptance for given proposed parameter.\n",
        "    \"\"\"\n",
        "    lp = log_prior(parameters, priors)\n",
        "    if not np.isfinite(lp):\n",
        "        return -np.inf\n",
        "\n",
        "    ll = log_likelihood_agnostic(parameters, inversed_covariance)\n",
        "    if not np.isfinite(ll):\n",
        "        return -np.inf\n",
        "\n",
        "    return lp + ll"
      ]
    },
    {
      "cell_type": "code",
      "execution_count": null,
      "metadata": {
        "id": "z4UYO7AkfrgO"
      },
      "outputs": [],
      "source": [
        "def run_MCMC(\n",
        "    nwalkers,\n",
        "    number_of_steps,\n",
        "    parameters_values,\n",
        "    prior_width,\n",
        "    outpath=None,\n",
        "    contd=None,\n",
        "):\n",
        "    \"\"\"\n",
        "    a wrapper file\n",
        "    \"\"\"\n",
        "\n",
        "    inversed_covariance = inv\n",
        "\n",
        "    # inversed_covariance=inversed_covariance_data\n",
        "\n",
        "\n",
        "\n",
        "    if outpath is None:\n",
        "        outpath = \"./results.h5\"\n",
        "    # load data\n",
        "\n",
        "    # priors\n",
        "    reference_values = np.array(parameters_values, dtype=float)\n",
        "    widths = np.array(prior_width)\n",
        "    priors = [reference_values, widths]\n",
        "\n",
        "    # initial guess array for each walker:\n",
        "    x0 = np.random.uniform(\n",
        "        reference_values - widths,\n",
        "        reference_values + widths,\n",
        "        size=(nwalkers, len(reference_values)),\n",
        "    )\n",
        "    nwalkers, ndim = x0.shape\n",
        "\n",
        "    # save file\n",
        "    backend = emcee.backends.HDFBackend(outpath)\n",
        "    if contd:  # it is true if you want to continue the run\n",
        "        print(f\"initial size: {backend.iteration}\", flush=True)\n",
        "    else:\n",
        "        backend.reset(nwalkers, ndim)\n",
        "\n",
        "        # initialize sampler, run MCMC\n",
        "    sampler = emcee.EnsembleSampler(\n",
        "        nwalkers,\n",
        "        ndim,\n",
        "        log_probability,\n",
        "        args=[priors, inversed_covariance],\n",
        "        backend=backend,\n",
        "    )\n",
        "\n",
        "    if contd:\n",
        "        sampler.run_mcmc(\n",
        "            None, number_of_steps, progress=True, skip_initial_state_check=True\n",
        "        )\n",
        "        print(f\"final size: {backend.iteration}\", flush=True)\n",
        "    else:\n",
        "        sampler.run_mcmc(\n",
        "            x0, number_of_steps, progress=True, skip_initial_state_check=True\n",
        "        )\n"
      ]
    },
    {
      "cell_type": "code",
      "execution_count": null,
      "metadata": {
        "id": "-MGpjgQWfrgO"
      },
      "outputs": [],
      "source": [
        "# default output file name\n",
        "OUTPATH = \"test_scratch.h5\"\n",
        "\n",
        "# MCMC sampler settings\n",
        "N_WALKERS = 32  # number of walkers\n",
        "N_CHAIN = 1000000  # length of chain for each walker\n",
        "CONTD = False  # set CONTD = True to resume sampling (for specific OUTPATH)\n",
        "# note: keeping CONTD = False may overwrite an existing file.\n",
        "\n",
        "PARAMETERS_VALUES = [0.5, 0]#per la mia scelta di angoli il coseno puo' essere solo fra 0 e 1\n",
        "PRIOR_WIDTH = [0.5, 0.5]\n"
      ]
    },
    {
      "cell_type": "code",
      "execution_count": null,
      "metadata": {
        "id": "Y42jCCKYfrgO",
        "outputId": "ab4057a2-e46a-4176-d1ee-cfe3145d302c"
      },
      "outputs": [
        {
          "ename": "NameError",
          "evalue": "name 'emcee' is not defined",
          "output_type": "error",
          "traceback": [
            "\u001b[0;31m---------------------------------------------------------------------------\u001b[0m",
            "\u001b[0;31mNameError\u001b[0m                                 Traceback (most recent call last)",
            "Input \u001b[0;32mIn [16]\u001b[0m, in \u001b[0;36m<cell line: 1>\u001b[0;34m()\u001b[0m\n\u001b[1;32m      1\u001b[0m \u001b[38;5;28;01mif\u001b[39;00m \u001b[38;5;18m__name__\u001b[39m \u001b[38;5;241m==\u001b[39m \u001b[38;5;124m\"\u001b[39m\u001b[38;5;124m__main__\u001b[39m\u001b[38;5;124m\"\u001b[39m:  \u001b[38;5;66;03m# it just execute the function\u001b[39;00m\n\u001b[1;32m      2\u001b[0m     \u001b[38;5;66;03m# load least-square, bets-fit results by default\u001b[39;00m\n\u001b[1;32m      3\u001b[0m     \u001b[38;5;66;03m#\u001b[39;00m\n\u001b[0;32m   (...)\u001b[0m\n\u001b[1;32m     11\u001b[0m \n\u001b[1;32m     12\u001b[0m     \u001b[38;5;66;03m# run MCMC\u001b[39;00m\n\u001b[0;32m---> 13\u001b[0m     \u001b[43mrun_MCMC\u001b[49m\u001b[43m(\u001b[49m\n\u001b[1;32m     14\u001b[0m \u001b[43m        \u001b[49m\u001b[43mnwalkers\u001b[49m\u001b[38;5;241;43m=\u001b[39;49m\u001b[43mN_WALKERS\u001b[49m\u001b[43m,\u001b[49m\n\u001b[1;32m     15\u001b[0m \u001b[43m        \u001b[49m\u001b[43mnumber_of_steps\u001b[49m\u001b[38;5;241;43m=\u001b[39;49m\u001b[43mN_CHAIN\u001b[49m\u001b[43m,\u001b[49m\n\u001b[1;32m     16\u001b[0m \u001b[43m        \u001b[49m\u001b[43mparameters_values\u001b[49m\u001b[38;5;241;43m=\u001b[39;49m\u001b[43mPARAMETERS_VALUES\u001b[49m\u001b[43m,\u001b[49m\n\u001b[1;32m     17\u001b[0m \u001b[43m        \u001b[49m\u001b[43mprior_width\u001b[49m\u001b[38;5;241;43m=\u001b[39;49m\u001b[43mPRIOR_WIDTH\u001b[49m\u001b[43m,\u001b[49m\n\u001b[1;32m     18\u001b[0m \u001b[43m        \u001b[49m\u001b[43moutpath\u001b[49m\u001b[38;5;241;43m=\u001b[39;49m\u001b[43mOUTPATH\u001b[49m\u001b[43m,\u001b[49m\n\u001b[1;32m     19\u001b[0m \u001b[43m        \u001b[49m\u001b[43mcontd\u001b[49m\u001b[38;5;241;43m=\u001b[39;49m\u001b[43mCONTD\u001b[49m\u001b[43m,\u001b[49m\n\u001b[1;32m     20\u001b[0m \u001b[43m    \u001b[49m\u001b[43m)\u001b[49m\n",
            "Input \u001b[0;32mIn [13]\u001b[0m, in \u001b[0;36mrun_MCMC\u001b[0;34m(nwalkers, number_of_steps, parameters_values, prior_width, outpath, contd)\u001b[0m\n\u001b[1;32m     34\u001b[0m nwalkers, ndim \u001b[38;5;241m=\u001b[39m x0\u001b[38;5;241m.\u001b[39mshape\n\u001b[1;32m     36\u001b[0m \u001b[38;5;66;03m# save file\u001b[39;00m\n\u001b[0;32m---> 37\u001b[0m backend \u001b[38;5;241m=\u001b[39m \u001b[43memcee\u001b[49m\u001b[38;5;241m.\u001b[39mbackends\u001b[38;5;241m.\u001b[39mHDFBackend(outpath)\n\u001b[1;32m     38\u001b[0m \u001b[38;5;28;01mif\u001b[39;00m contd:  \u001b[38;5;66;03m# it is true if you want to continue the run\u001b[39;00m\n\u001b[1;32m     39\u001b[0m     \u001b[38;5;28mprint\u001b[39m(\u001b[38;5;124mf\u001b[39m\u001b[38;5;124m\"\u001b[39m\u001b[38;5;124minitial size: \u001b[39m\u001b[38;5;132;01m{\u001b[39;00mbackend\u001b[38;5;241m.\u001b[39miteration\u001b[38;5;132;01m}\u001b[39;00m\u001b[38;5;124m\"\u001b[39m, flush\u001b[38;5;241m=\u001b[39m\u001b[38;5;28;01mTrue\u001b[39;00m)\n",
            "\u001b[0;31mNameError\u001b[0m: name 'emcee' is not defined"
          ]
        }
      ],
      "source": [
        "if __name__ == \"__main__\":  # it just execute the function\n",
        "    # load least-square, bets-fit results by default\n",
        "    #\n",
        "    # note:\n",
        "    # Passing manually defined arrays to 'lstsq_results' argument\n",
        "    # and setting PRIOR_WIDTH_RATIO = 0 will allow users to define\n",
        "    # the desired central values and width of the prior manually.\n",
        "    # If you wish to use different (e.g., Gaussian) priors, define\n",
        "    # the analytic Gaussian function in MCMC_utils.py file accordingly.\n",
        "    # q_lstsq, sigma_lstsq = np.loadtxt(lstsq_results_path, unpack=True)\n",
        "\n",
        "    # run MCMC\n",
        "    run_MCMC(\n",
        "        nwalkers=N_WALKERS,\n",
        "        number_of_steps=N_CHAIN,\n",
        "        parameters_values=PARAMETERS_VALUES,\n",
        "        prior_width=PRIOR_WIDTH,\n",
        "        outpath=OUTPATH,\n",
        "        contd=CONTD,\n",
        "    )\n"
      ]
    },
    {
      "cell_type": "code",
      "execution_count": null,
      "metadata": {
        "id": "aIk4EesbfrgO"
      },
      "outputs": [],
      "source": []
    }
  ],
  "metadata": {
    "kernelspec": {
      "display_name": "base",
      "language": "python",
      "name": "python3"
    },
    "language_info": {
      "codemirror_mode": {
        "name": "ipython",
        "version": 3
      },
      "file_extension": ".py",
      "mimetype": "text/x-python",
      "name": "python",
      "nbconvert_exporter": "python",
      "pygments_lexer": "ipython3",
      "version": "3.9.12"
    },
    "colab": {
      "provenance": []
    }
  },
  "nbformat": 4,
  "nbformat_minor": 0
}
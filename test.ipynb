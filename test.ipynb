{
  "cells": [
    {
      "cell_type": "code",
      "source": [
        "! pip install emcee"
      ],
      "metadata": {
        "id": "pEt2PJ9IfxQI",
        "outputId": "0ef89b81-5b5b-4fa2-b9dd-416610fd89f3",
        "colab": {
          "base_uri": "https://localhost:8080/"
        }
      },
      "execution_count": null,
      "outputs": [
        {
          "output_type": "stream",
          "name": "stdout",
          "text": [
            "Collecting emcee\n",
            "  Downloading emcee-3.1.6-py2.py3-none-any.whl.metadata (3.0 kB)\n",
            "Requirement already satisfied: numpy in /usr/local/lib/python3.10/dist-packages (from emcee) (1.26.4)\n",
            "Downloading emcee-3.1.6-py2.py3-none-any.whl (47 kB)\n",
            "\u001b[?25l   \u001b[90m━━━━━━━━━━━━━━━━━━━━━━━━━━━━━━━━━━━━━━━━\u001b[0m \u001b[32m0.0/47.4 kB\u001b[0m \u001b[31m?\u001b[0m eta \u001b[36m-:--:--\u001b[0m\r\u001b[2K   \u001b[90m━━━━━━━━━━━━━━━━━━━━━━━━━━━━━━━━━━━━━━━━\u001b[0m \u001b[32m47.4/47.4 kB\u001b[0m \u001b[31m2.1 MB/s\u001b[0m eta \u001b[36m0:00:00\u001b[0m\n",
            "\u001b[?25hInstalling collected packages: emcee\n",
            "Successfully installed emcee-3.1.6\n"
          ]
        }
      ]
    },
    {
      "cell_type": "code",
      "source": [
        "! git clone https://github.com/fsorrenti/debug.git"
      ],
      "metadata": {
        "id": "fwdN-cvEg8Ju",
        "outputId": "95bed119-7334-46dd-e5cc-dca3082a7de0",
        "colab": {
          "base_uri": "https://localhost:8080/"
        }
      },
      "execution_count": 13,
      "outputs": [
        {
          "output_type": "stream",
          "name": "stdout",
          "text": [
            "Cloning into 'debug'...\n",
            "remote: Enumerating objects: 17, done.\u001b[K\n",
            "remote: Counting objects: 100% (17/17), done.\u001b[K\n",
            "remote: Compressing objects: 100% (17/17), done.\u001b[K\n",
            "remote: Total 17 (delta 8), reused 3 (delta 0), pack-reused 0 (from 0)\u001b[K\n",
            "Receiving objects: 100% (17/17), 10.08 MiB | 12.17 MiB/s, done.\n",
            "Resolving deltas: 100% (8/8), done.\n"
          ]
        }
      ]
    },
    {
      "cell_type": "code",
      "source": [
        "%cd debug"
      ],
      "metadata": {
        "id": "GreNXtbKgGrr",
        "outputId": "ff225c7a-4653-4d16-8592-b9b3a9d49e95",
        "colab": {
          "base_uri": "https://localhost:8080/"
        }
      },
      "execution_count": 14,
      "outputs": [
        {
          "output_type": "stream",
          "name": "stdout",
          "text": [
            "/content/debug\n"
          ]
        }
      ]
    },
    {
      "cell_type": "code",
      "execution_count": 15,
      "metadata": {
        "id": "59cT84_JfvxU"
      },
      "outputs": [],
      "source": [
        "from __future__ import annotations\n",
        "import sys\n",
        "import numpy as np\n",
        "from scipy.stats import multivariate_normal\n",
        "#import dipole_utilities as ut\n",
        "import emcee\n"
      ]
    },
    {
      "cell_type": "code",
      "execution_count": 16,
      "metadata": {
        "id": "mI0Hh4t6fvxY"
      },
      "outputs": [],
      "source": [
        "from astropy.coordinates import SkyCoord, spherical_to_cartesian\n",
        "from astropy import units as u\n",
        "import math as m\n",
        "from scipy import integrate"
      ]
    },
    {
      "cell_type": "code",
      "execution_count": 17,
      "metadata": {
        "id": "Q-cK_4svfvxY"
      },
      "outputs": [],
      "source": [
        "covf = open(\"Pantheon+SH0ES_STAT+SYS.cov\").readlines()\n",
        "covl = np.array(covf, dtype=\"float\")\n",
        "shape = covl[0]  # si prende la misura in questo modo, geniale\n",
        "covmat = covl[1:].reshape((int(shape), int(shape)))\n",
        "\n",
        "inv=np.linalg.inv(covmat)\n",
        "\n",
        "\n",
        "filtered_data_file = np.genfromtxt(\n",
        "    \"Pantheon+SH0ES.dat\", usecols=(4, 10, 12, 13, 26, 27, 31, 8), skip_header=1\n",
        ")\n",
        "\n",
        "\n",
        "z = filtered_data_file[:, 0]\n",
        "mu = filtered_data_file[:, 1]\n",
        "ceph_dis = filtered_data_file[:, 2]\n",
        "is_cal = filtered_data_file[:, 3]\n",
        "ra = filtered_data_file[:, 4]\n",
        "dec = filtered_data_file[:, 5]\n",
        "v_pec = filtered_data_file[:, 6]\n",
        "m_b = filtered_data_file[:, 7]\n"
      ]
    },
    {
      "cell_type": "code",
      "execution_count": 18,
      "metadata": {
        "id": "YcuTGeUgfvxZ"
      },
      "outputs": [],
      "source": [
        "def integrand(z, H0, Omat):\n",
        "    return 1 / (H0 * m.sqrt(Omat * (1 + z) ** 3 + (1 - Omat)))\n",
        "\n",
        "\n",
        "def dl_monopole(z, H0, Omat):\n",
        "    c = 299792.458\n",
        "    return (\n",
        "        c * (1 + z) * integrate.romberg(integrand, 0, z, args=(H0, Omat))\n",
        "    )  # return quad(integrand, 0, z, args=(H0, Omat, Olam))[0]"
      ]
    },
    {
      "cell_type": "code",
      "execution_count": 19,
      "metadata": {
        "id": "OfaZsA2yfvxZ"
      },
      "outputs": [],
      "source": [
        "def monopole(z, H0, Omat):\n",
        "    return 5 * np.log10((dl_monopole(z, H0, Omat))) + 25"
      ]
    },
    {
      "cell_type": "code",
      "execution_count": 20,
      "metadata": {
        "id": "u7TeyLzDfvxZ"
      },
      "outputs": [],
      "source": [
        "def exp_obs_monopole_with_M(\n",
        "    M, H0, omega_m, mu, z, is_cal, ceph,\n",
        "):\n",
        "    number_of_elements = len(mu)\n",
        "    exp_obs_mon = np.zeros(number_of_elements)\n",
        "\n",
        "    for i in range(0, number_of_elements):\n",
        "        if is_cal[i] == 1:\n",
        "            exp_obs_mon[i] = mu[i] + M - ceph[i]\n",
        "            # exp_obs_mon[i]=mu[i]-monopole(z6[i],H0,omega_m)\n",
        "        else:\n",
        "            exp_obs_mon[i] = mu[i] + M - monopole(z[i], H0, omega_m)\n",
        "\n",
        "    return exp_obs_mon"
      ]
    },
    {
      "cell_type": "code",
      "execution_count": 21,
      "metadata": {
        "id": "MOVuV2Utfvxa"
      },
      "outputs": [],
      "source": [
        "def log_likelihood_agnostic(parameters: list[float], inversed_covariance):\n",
        "\n",
        "    '''the following for the agnostic taylor expansion'''\n",
        "#    d1, d2, d3, dM  = parameters\n",
        "\n",
        "#    res=residual_agnostic_taylor_expansion(d1, d2, d3, dM )\n",
        "\n",
        "  #  z0, d1, d2, d3, dM  = parameters\n",
        "\n",
        "    Omat,dM  = parameters\n",
        "\n",
        "\n",
        "\n",
        "    res=exp_obs_monopole_with_M(dM,73.4, Omat, mu, z, is_cal, ceph_dis)\n",
        "\n",
        "\n",
        "    chi2 = res @ inversed_covariance @ res\n",
        "    return -0.5 * chi2  # normalization is constant so can be omitted\n"
      ]
    },
    {
      "cell_type": "code",
      "execution_count": 22,
      "metadata": {
        "id": "wX9B2T-bfvxa"
      },
      "outputs": [],
      "source": [
        "def log_prior(theta, priors):\n",
        "\n",
        "    \"\"\"\n",
        "    log-prior for the parameters (uniform)\n",
        "    \"\"\"\n",
        "    # theta is the free parameters, priors is a list of two elements\n",
        "    mu, halfwidth = priors\n",
        "    for mu_i, theta_i, halfwidth_i in zip(mu, theta, halfwidth):\n",
        "        if theta_i > mu_i + halfwidth_i or theta_i < mu_i - halfwidth_i:\n",
        "            return -np.inf\n",
        "    return 0\n"
      ]
    },
    {
      "cell_type": "code",
      "execution_count": 23,
      "metadata": {
        "id": "Rz3gVk-sfvxa"
      },
      "outputs": [],
      "source": [
        "def log_probability(parameters: list[float], priors, inversed_covariance):\n",
        "    \"\"\"\n",
        "    log-probability that governs the rate of acceptance for given proposed parameter.\n",
        "    \"\"\"\n",
        "    lp = log_prior(parameters, priors)\n",
        "    if not np.isfinite(lp):\n",
        "        return -np.inf\n",
        "\n",
        "    ll = log_likelihood_agnostic(parameters, inversed_covariance)\n",
        "    if not np.isfinite(ll):\n",
        "        return -np.inf\n",
        "\n",
        "    return lp + ll"
      ]
    },
    {
      "cell_type": "code",
      "execution_count": 24,
      "metadata": {
        "id": "BfJtMixnfvxb"
      },
      "outputs": [],
      "source": [
        "def run_MCMC(\n",
        "    nwalkers,\n",
        "    number_of_steps,\n",
        "    parameters_values,\n",
        "    prior_width,\n",
        "    outpath=None,\n",
        "    contd=None,\n",
        "):\n",
        "    \"\"\"\n",
        "    a wrapper file\n",
        "    \"\"\"\n",
        "\n",
        "    inversed_covariance = inv\n",
        "\n",
        "    # inversed_covariance=inversed_covariance_data\n",
        "\n",
        "\n",
        "\n",
        "    if outpath is None:\n",
        "        outpath = \"./results.h5\"\n",
        "    # load data\n",
        "\n",
        "    # priors\n",
        "    reference_values = np.array(parameters_values, dtype=float)\n",
        "    widths = np.array(prior_width)\n",
        "    priors = [reference_values, widths]\n",
        "\n",
        "    # initial guess array for each walker:\n",
        "    x0 = np.random.uniform(\n",
        "        reference_values - widths,\n",
        "        reference_values + widths,\n",
        "        size=(nwalkers, len(reference_values)),\n",
        "    )\n",
        "    nwalkers, ndim = x0.shape\n",
        "\n",
        "    # save file\n",
        "    backend = emcee.backends.HDFBackend(outpath)\n",
        "    if contd:  # it is true if you want to continue the run\n",
        "        print(f\"initial size: {backend.iteration}\", flush=True)\n",
        "    else:\n",
        "        backend.reset(nwalkers, ndim)\n",
        "\n",
        "        # initialize sampler, run MCMC\n",
        "    sampler = emcee.EnsembleSampler(\n",
        "        nwalkers,\n",
        "        ndim,\n",
        "        log_probability,\n",
        "        args=[priors, inversed_covariance],\n",
        "        backend=backend,\n",
        "    )\n",
        "\n",
        "    if contd:\n",
        "        sampler.run_mcmc(\n",
        "            None, number_of_steps, progress=True, skip_initial_state_check=True\n",
        "        )\n",
        "        print(f\"final size: {backend.iteration}\", flush=True)\n",
        "    else:\n",
        "        sampler.run_mcmc(\n",
        "            x0, number_of_steps, progress=True, skip_initial_state_check=True\n",
        "        )\n"
      ]
    },
    {
      "cell_type": "code",
      "execution_count": 25,
      "metadata": {
        "id": "D1Cl3UJxfvxb"
      },
      "outputs": [],
      "source": [
        "# default output file name\n",
        "OUTPATH = \"test_scratch.h5\"\n",
        "\n",
        "# MCMC sampler settings\n",
        "N_WALKERS = 32  # number of walkers\n",
        "N_CHAIN = 1000  # length of chain for each walker\n",
        "CONTD = False  # set CONTD = True to resume sampling (for specific OUTPATH)\n",
        "# note: keeping CONTD = False may overwrite an existing file.\n",
        "\n",
        "PARAMETERS_VALUES = [0.5, 0]#per la mia scelta di angoli il coseno puo' essere solo fra 0 e 1\n",
        "PRIOR_WIDTH = [0.5, 0.5]\n"
      ]
    },
    {
      "cell_type": "code",
      "execution_count": 26,
      "metadata": {
        "id": "CY0u2xT6fvxb",
        "outputId": "469afb0c-72c2-4aba-c345-2e0dec04b875",
        "colab": {
          "base_uri": "https://localhost:8080/"
        }
      },
      "outputs": [
        {
          "output_type": "stream",
          "name": "stderr",
          "text": [
            "<ipython-input-18-6fc222fc8025>:8: DeprecationWarning: `scipy.integrate.romberg` is deprecated as of SciPy 1.12.0and will be removed in SciPy 1.15.0. Please use`scipy.integrate.quad` instead.\n",
            "  c * (1 + z) * integrate.romberg(integrand, 0, z, args=(H0, Omat))\n",
            "100%|██████████| 1000/1000 [1:18:21<00:00,  4.70s/it]\n"
          ]
        }
      ],
      "source": [
        "if __name__ == \"__main__\":  # it just execute the function\n",
        "    # load least-square, bets-fit results by default\n",
        "    #\n",
        "    # note:\n",
        "    # Passing manually defined arrays to 'lstsq_results' argument\n",
        "    # and setting PRIOR_WIDTH_RATIO = 0 will allow users to define\n",
        "    # the desired central values and width of the prior manually.\n",
        "    # If you wish to use different (e.g., Gaussian) priors, define\n",
        "    # the analytic Gaussian function in MCMC_utils.py file accordingly.\n",
        "    # q_lstsq, sigma_lstsq = np.loadtxt(lstsq_results_path, unpack=True)\n",
        "\n",
        "    # run MCMC\n",
        "    run_MCMC(\n",
        "        nwalkers=N_WALKERS,\n",
        "        number_of_steps=N_CHAIN,\n",
        "        parameters_values=PARAMETERS_VALUES,\n",
        "        prior_width=PRIOR_WIDTH,\n",
        "        outpath=OUTPATH,\n",
        "        contd=CONTD,\n",
        "    )\n"
      ]
    },
    {
      "cell_type": "code",
      "source": [
        "def plot_getdist(\n",
        "    flatchain,\n",
        "    names_parameter,\n",
        "    truth_values=None,\n",
        "    label_legend=None,\n",
        "    name_for_saving=None,\n",
        "    params=None,\n",
        "    fisher=None,\n",
        "    smoothing_1D=None,\n",
        "    smoothing_2D=None,\n",
        "    legend_fontsize=None,\n",
        "    ranges=None,\n",
        "):\n",
        "    \"\"\"\n",
        "    Given a MCMC chain and a set of parameter names, plot the posterior distribution of the parameters.\n",
        "    flatchain: MCMC chain of parameter values\n",
        "    names_parameter: names of parameters (in the same order as in the flatchain array)\n",
        "    truth_values: true parameter values (if known)\n",
        "    label_legend: label to include in the legend\n",
        "    name_for_saving: if specified, save the plot as a file with this name\n",
        "    fisher: if True, interpret the chain as a Fisher matrix instead of a Markov Chain\n",
        "    legend_fontsize: font size for the legend (default is 15)\n",
        "    ranges: dictionary of parameter ranges (optional)\n",
        "    \"\"\"\n",
        "\n",
        "    # Set default values\n",
        "    legend_fontsize = legend_fontsize or 15\n",
        "    smoothing_1D = smoothing_1D or 0.5\n",
        "    smoothing_2D = smoothing_2D or 2.5\n",
        "\n",
        "    # Calculate ranges if not provided\n",
        "    if ranges is None:\n",
        "        ranges = {\n",
        "            name: (\n",
        "                chain[:, i].mean() - 3 * chain[:, i].std(),\n",
        "                chain[:, i].mean() + 3 * chain[:, i].std()\n",
        "            )\n",
        "            for chain in flatchain\n",
        "            for i, name in enumerate(names_parameter)\n",
        "        }\n",
        "\n",
        "    with plt.rc_context({\"mathtext.fontset\": \"cm\", \"font.family\": \"serif\"}):\n",
        "        # Create the plot object and set the plot settings\n",
        "        g = plots.get_subplot_plotter()\n",
        "\n",
        "        # Set global plotting settings\n",
        "        g.settings.legend_fontsize = legend_fontsize\n",
        "        g.settings.axes_fontsize = 18\n",
        "        g.settings.axes_labelsize = 24\n",
        "        g.settings.axis_marker_lw = 1.5\n",
        "        g.settings.axis_marker_color = \"black\"\n",
        "        g.settings.alpha_filled_add = 0.7\n",
        "        g.settings.alpha_factor_contour_lines = 0.7\n",
        "\n",
        "        # Create list of samples from flatchain\n",
        "        samples = [\n",
        "            MCSamples(\n",
        "                samples=chain,\n",
        "                names=names_parameter,\n",
        "                label=label_legend[i] if label_legend else f'Chain {i+1}',\n",
        "                ranges=ranges,\n",
        "                settings={\n",
        "                    \"smooth_scale_1D\": smoothing_1D,\n",
        "                    \"smooth_scale_2D\": smoothing_2D,\n",
        "                },\n",
        "            )\n",
        "            for i, chain in enumerate(flatchain)\n",
        "        ]\n",
        "\n",
        "        # Add fisher samples if given\n",
        "        if fisher is not None:\n",
        "            samples += fisher\n",
        "\n",
        "        # Plot triangle plot with or without truth values\n",
        "        markers = (\n",
        "            {names_parameter[i]: truth_values[i] for i in range(len(names_parameter))}\n",
        "            if truth_values is not None\n",
        "            else None\n",
        "        )\n",
        "\n",
        "        g.triangle_plot(\n",
        "            samples,\n",
        "            filled=True,\n",
        "            markers=markers,\n",
        "            params=params,\n",
        "            contour_colors=[\"tab:blue\", \"tab:orange\", \"tab:green\"],\n",
        "            contour_ls=[\"-\", \"-\", \"-\"],\n",
        "            contour_lws=[1.5, 1.5, 1.5],\n",
        "            legend_loc=\"upper right\",\n",
        "            line_args=[\n",
        "                {\"ls\": \"-\", \"lw\": \"1.5\", \"color\": \"tab:blue\"},\n",
        "                {\"ls\": \"-\", \"lw\": \"1.5\", \"color\": \"tab:orange\"},\n",
        "                {\"ls\": \"-\", \"lw\": \"1.5\", \"color\": \"tab:green\"},\n",
        "            ],\n",
        "            bbox_inches='tight'\n",
        "        )\n",
        "\n",
        "        # Save plot if name_for_saving is given\n",
        "        if name_for_saving is not None:\n",
        "            g.export(name_for_saving)\n",
        "\n",
        "        plt.show()"
      ],
      "metadata": {
        "id": "9b3oqUmG1w1P"
      },
      "execution_count": null,
      "outputs": []
    },
    {
      "cell_type": "code",
      "source": [],
      "metadata": {
        "id": "swk_dCBz1wty"
      },
      "execution_count": null,
      "outputs": []
    },
    {
      "cell_type": "code",
      "source": [],
      "metadata": {
        "id": "BEnzaDDL1wcB"
      },
      "execution_count": null,
      "outputs": []
    },
    {
      "cell_type": "code",
      "execution_count": null,
      "metadata": {
        "id": "kO3jnmSzfvxb"
      },
      "outputs": [],
      "source": [
        "reader = emcee.backends.HDFBackend(\"recovering_pantheon_om_H0_dM.h5\")\n",
        "#tau = reader.get_autocorr_time()\n",
        "#print(tau)\n",
        "burnin = 60\n",
        "test=reader.get_chain(flat=True, discard=burnin)\n",
        "\n",
        "c=299792.458\n",
        "chi=-2 * reader.get_log_prob(flat=True, discard=burnin)\n"
      ]
    }
  ],
  "metadata": {
    "kernelspec": {
      "display_name": "base",
      "language": "python",
      "name": "python3"
    },
    "language_info": {
      "codemirror_mode": {
        "name": "ipython",
        "version": 3
      },
      "file_extension": ".py",
      "mimetype": "text/x-python",
      "name": "python",
      "nbconvert_exporter": "python",
      "pygments_lexer": "ipython3",
      "version": "3.9.12"
    },
    "colab": {
      "provenance": []
    }
  },
  "nbformat": 4,
  "nbformat_minor": 0
}
{
  "cells": [
    {
      "cell_type": "code",
      "source": [
        "! pip install emcee"
      ],
      "metadata": {
        "id": "pEt2PJ9IfxQI",
        "outputId": "80e510d1-5b72-403a-bdf4-209a1296dd33",
        "colab": {
          "base_uri": "https://localhost:8080/"
        }
      },
      "execution_count": 36,
      "outputs": [
        {
          "output_type": "stream",
          "name": "stdout",
          "text": [
            "Requirement already satisfied: emcee in /usr/local/lib/python3.10/dist-packages (3.1.6)\n",
            "Requirement already satisfied: numpy in /usr/local/lib/python3.10/dist-packages (from emcee) (1.26.4)\n"
          ]
        }
      ]
    },
    {
      "cell_type": "code",
      "source": [
        "! git clone https://github.com/fsorrenti/debug.git"
      ],
      "metadata": {
        "id": "fwdN-cvEg8Ju",
        "outputId": "57e5d859-234d-4ad8-96dc-fc9e420d30da",
        "colab": {
          "base_uri": "https://localhost:8080/"
        }
      },
      "execution_count": 37,
      "outputs": [
        {
          "output_type": "stream",
          "name": "stdout",
          "text": [
            "Cloning into 'debug'...\n",
            "remote: Enumerating objects: 14, done.\u001b[K\n",
            "remote: Counting objects: 100% (14/14), done.\u001b[K\n",
            "remote: Compressing objects: 100% (14/14), done.\u001b[K\n",
            "remote: Total 14 (delta 6), reused 3 (delta 0), pack-reused 0 (from 0)\u001b[K\n",
            "Receiving objects: 100% (14/14), 10.08 MiB | 13.89 MiB/s, done.\n",
            "Resolving deltas: 100% (6/6), done.\n"
          ]
        }
      ]
    },
    {
      "cell_type": "code",
      "source": [
        "%cd debug"
      ],
      "metadata": {
        "id": "GreNXtbKgGrr",
        "outputId": "7cdceee1-f5c2-4658-f4d8-a185f01a5944",
        "colab": {
          "base_uri": "https://localhost:8080/"
        }
      },
      "execution_count": 38,
      "outputs": [
        {
          "output_type": "stream",
          "name": "stdout",
          "text": [
            "/content/debug/debug\n"
          ]
        }
      ]
    },
    {
      "cell_type": "code",
      "execution_count": 39,
      "metadata": {
        "id": "59cT84_JfvxU"
      },
      "outputs": [],
      "source": [
        "from __future__ import annotations\n",
        "import sys\n",
        "import numpy as np\n",
        "from scipy.stats import multivariate_normal\n",
        "import emcee\n"
      ]
    },
    {
      "cell_type": "code",
      "execution_count": 40,
      "metadata": {
        "id": "mI0Hh4t6fvxY"
      },
      "outputs": [],
      "source": [
        "from astropy.coordinates import SkyCoord, spherical_to_cartesian\n",
        "from astropy import units as u\n",
        "import math as m\n",
        "from scipy import integrate"
      ]
    },
    {
      "cell_type": "code",
      "execution_count": 41,
      "metadata": {
        "id": "Q-cK_4svfvxY"
      },
      "outputs": [],
      "source": [
        "covf = open(\"Pantheon+SH0ES_STAT+SYS.cov\").readlines()\n",
        "covl = np.array(covf, dtype=\"float\")\n",
        "shape = covl[0]  # si prende la misura in questo modo, geniale\n",
        "covmat = covl[1:].reshape((int(shape), int(shape)))\n",
        "\n",
        "inv=np.linalg.inv(covmat)\n",
        "\n",
        "\n",
        "filtered_data_file = np.genfromtxt(\n",
        "    \"Pantheon+SH0ES.dat\", usecols=(4, 10, 12, 13, 26, 27, 31, 8), skip_header=1\n",
        ")\n",
        "\n",
        "\n",
        "z = filtered_data_file[:, 0]\n",
        "mu = filtered_data_file[:, 1]\n",
        "ceph_dis = filtered_data_file[:, 2]\n",
        "is_cal = filtered_data_file[:, 3]\n",
        "ra = filtered_data_file[:, 4]\n",
        "dec = filtered_data_file[:, 5]\n",
        "v_pec = filtered_data_file[:, 6]\n",
        "m_b = filtered_data_file[:, 7]\n"
      ]
    },
    {
      "cell_type": "code",
      "execution_count": 42,
      "metadata": {
        "id": "YcuTGeUgfvxZ"
      },
      "outputs": [],
      "source": [
        "def integrand(z, H0, Omat):\n",
        "    return 1 / (H0 * m.sqrt(Omat * (1 + z) ** 3 + (1 - Omat)))\n",
        "\n",
        "\n",
        "def dl_monopole(z, H0, Omat):\n",
        "    c = 299792.458\n",
        "    return (\n",
        "        c * (1 + z) * integrate.romberg(integrand, 0, z, args=(H0, Omat))\n",
        "    )  # return quad(integrand, 0, z, args=(H0, Omat, Olam))[0]"
      ]
    },
    {
      "cell_type": "code",
      "execution_count": 43,
      "metadata": {
        "id": "OfaZsA2yfvxZ"
      },
      "outputs": [],
      "source": [
        "def monopole(z, H0, Omat):\n",
        "    return 5 * np.log10((dl_monopole(z, H0, Omat))) + 25"
      ]
    },
    {
      "cell_type": "code",
      "execution_count": 44,
      "metadata": {
        "id": "u7TeyLzDfvxZ"
      },
      "outputs": [],
      "source": [
        "def exp_obs_monopole_with_M(\n",
        "    M, H0, omega_m, mu, z, is_cal, ceph,\n",
        "):\n",
        "    number_of_elements = len(mu)\n",
        "    exp_obs_mon = np.zeros(number_of_elements)\n",
        "\n",
        "    for i in range(0, number_of_elements):\n",
        "        if is_cal[i] == 1:\n",
        "            exp_obs_mon[i] = mu[i] + M - ceph[i]\n",
        "            # exp_obs_mon[i]=mu[i]-monopole(z6[i],H0,omega_m)\n",
        "        else:\n",
        "            exp_obs_mon[i] = mu[i] + M - monopole(z[i], H0, omega_m)\n",
        "\n",
        "    return exp_obs_mon"
      ]
    },
    {
      "cell_type": "code",
      "execution_count": 45,
      "metadata": {
        "id": "MOVuV2Utfvxa"
      },
      "outputs": [],
      "source": [
        "def log_likelihood_agnostic(parameters: list[float], inversed_covariance):\n",
        "\n",
        "    '''the following for the agnostic taylor expansion'''\n",
        "#    d1, d2, d3, dM  = parameters\n",
        "\n",
        "#    res=residual_agnostic_taylor_expansion(d1, d2, d3, dM )\n",
        "\n",
        "  #  z0, d1, d2, d3, dM  = parameters\n",
        "\n",
        "    Omat,dM  = parameters\n",
        "\n",
        "\n",
        "\n",
        "    res=exp_obs_monopole_with_M(dM,73.4, Omat, mu, z, is_cal, ceph_dis)\n",
        "\n",
        "\n",
        "    chi2 = res @ inversed_covariance @ res\n",
        "    return -0.5 * chi2  # normalization is constant so can be omitted\n"
      ]
    },
    {
      "cell_type": "code",
      "execution_count": 46,
      "metadata": {
        "id": "wX9B2T-bfvxa"
      },
      "outputs": [],
      "source": [
        "def log_prior(theta, priors):\n",
        "\n",
        "    \"\"\"\n",
        "    log-prior for the parameters (uniform)\n",
        "    \"\"\"\n",
        "    # theta is the free parameters, priors is a list of two elements\n",
        "    mu, halfwidth = priors\n",
        "    for mu_i, theta_i, halfwidth_i in zip(mu, theta, halfwidth):\n",
        "        if theta_i > mu_i + halfwidth_i or theta_i < mu_i - halfwidth_i:\n",
        "            return -np.inf\n",
        "    return 0\n"
      ]
    },
    {
      "cell_type": "code",
      "execution_count": 47,
      "metadata": {
        "id": "Rz3gVk-sfvxa"
      },
      "outputs": [],
      "source": [
        "def log_probability(parameters: list[float], priors, inversed_covariance):\n",
        "    \"\"\"\n",
        "    log-probability that governs the rate of acceptance for given proposed parameter.\n",
        "    \"\"\"\n",
        "    lp = log_prior(parameters, priors)\n",
        "    if not np.isfinite(lp):\n",
        "        return -np.inf\n",
        "\n",
        "    ll = log_likelihood_agnostic(parameters, inversed_covariance)\n",
        "    if not np.isfinite(ll):\n",
        "        return -np.inf\n",
        "\n",
        "    return lp + ll"
      ]
    },
    {
      "cell_type": "code",
      "execution_count": 48,
      "metadata": {
        "id": "BfJtMixnfvxb"
      },
      "outputs": [],
      "source": [
        "def run_MCMC(\n",
        "    nwalkers,\n",
        "    number_of_steps,\n",
        "    parameters_values,\n",
        "    prior_width,\n",
        "    outpath=None,\n",
        "    contd=None,\n",
        "):\n",
        "    \"\"\"\n",
        "    a wrapper file\n",
        "    \"\"\"\n",
        "\n",
        "    inversed_covariance = inv\n",
        "\n",
        "    # inversed_covariance=inversed_covariance_data\n",
        "\n",
        "\n",
        "\n",
        "    if outpath is None:\n",
        "        outpath = \"./results.h5\"\n",
        "    # load data\n",
        "\n",
        "    # priors\n",
        "    reference_values = np.array(parameters_values, dtype=float)\n",
        "    widths = np.array(prior_width)\n",
        "    priors = [reference_values, widths]\n",
        "\n",
        "    # initial guess array for each walker:\n",
        "    x0 = np.random.uniform(\n",
        "        reference_values - widths,\n",
        "        reference_values + widths,\n",
        "        size=(nwalkers, len(reference_values)),\n",
        "    )\n",
        "    nwalkers, ndim = x0.shape\n",
        "\n",
        "    # save file\n",
        "    backend = emcee.backends.HDFBackend(outpath)\n",
        "    if contd:  # it is true if you want to continue the run\n",
        "        print(f\"initial size: {backend.iteration}\", flush=True)\n",
        "    else:\n",
        "        backend.reset(nwalkers, ndim)\n",
        "\n",
        "        # initialize sampler, run MCMC\n",
        "    sampler = emcee.EnsembleSampler(\n",
        "        nwalkers,\n",
        "        ndim,\n",
        "        log_probability,\n",
        "        args=[priors, inversed_covariance],\n",
        "        backend=backend,\n",
        "    )\n",
        "\n",
        "    if contd:\n",
        "        sampler.run_mcmc(\n",
        "            None, number_of_steps, progress=True, skip_initial_state_check=True\n",
        "        )\n",
        "        print(f\"final size: {backend.iteration}\", flush=True)\n",
        "    else:\n",
        "        sampler.run_mcmc(\n",
        "            x0, number_of_steps, progress=True, skip_initial_state_check=True\n",
        "        )\n"
      ]
    },
    {
      "cell_type": "code",
      "execution_count": 49,
      "metadata": {
        "id": "D1Cl3UJxfvxb"
      },
      "outputs": [],
      "source": [
        "# default output file name\n",
        "OUTPATH = \"test_scratch.h5\"\n",
        "\n",
        "# MCMC sampler settings\n",
        "N_WALKERS = 32  # number of walkers\n",
        "N_CHAIN = 1000  # length of chain for each walker\n",
        "CONTD = False  # set CONTD = True to resume sampling (for specific OUTPATH)\n",
        "# note: keeping CONTD = False may overwrite an existing file.\n",
        "\n",
        "PARAMETERS_VALUES = [0.5, 0]#per la mia scelta di angoli il coseno puo' essere solo fra 0 e 1\n",
        "PRIOR_WIDTH = [0.5, 0.5]\n"
      ]
    },
    {
      "cell_type": "code",
      "execution_count": null,
      "metadata": {
        "id": "CY0u2xT6fvxb",
        "outputId": "615f2f53-1318-4714-ebfa-2da71b4c5ce4",
        "colab": {
          "base_uri": "https://localhost:8080/"
        }
      },
      "outputs": [
        {
          "output_type": "stream",
          "name": "stderr",
          "text": [
            "<ipython-input-42-6fc222fc8025>:8: DeprecationWarning: `scipy.integrate.romberg` is deprecated as of SciPy 1.12.0and will be removed in SciPy 1.15.0. Please use`scipy.integrate.quad` instead.\n",
            "  c * (1 + z) * integrate.romberg(integrand, 0, z, args=(H0, Omat))\n",
            "  1%|          | 10/1000 [00:53<1:30:23,  5.48s/it]"
          ]
        }
      ],
      "source": [
        "if __name__ == \"__main__\":  # it just execute the function\n",
        "    # load least-square, bets-fit results by default\n",
        "    #\n",
        "    # note:\n",
        "    # Passing manually defined arrays to 'lstsq_results' argument\n",
        "    # and setting PRIOR_WIDTH_RATIO = 0 will allow users to define\n",
        "    # the desired central values and width of the prior manually.\n",
        "    # If you wish to use different (e.g., Gaussian) priors, define\n",
        "    # the analytic Gaussian function in MCMC_utils.py file accordingly.\n",
        "    # q_lstsq, sigma_lstsq = np.loadtxt(lstsq_results_path, unpack=True)\n",
        "\n",
        "    # run MCMC\n",
        "    run_MCMC(\n",
        "        nwalkers=N_WALKERS,\n",
        "        number_of_steps=N_CHAIN,\n",
        "        parameters_values=PARAMETERS_VALUES,\n",
        "        prior_width=PRIOR_WIDTH,\n",
        "        outpath=OUTPATH,\n",
        "        contd=CONTD,\n",
        "    )\n"
      ]
    },
    {
      "cell_type": "code",
      "execution_count": null,
      "metadata": {
        "id": "kO3jnmSzfvxb"
      },
      "outputs": [],
      "source": []
    }
  ],
  "metadata": {
    "kernelspec": {
      "display_name": "base",
      "language": "python",
      "name": "python3"
    },
    "language_info": {
      "codemirror_mode": {
        "name": "ipython",
        "version": 3
      },
      "file_extension": ".py",
      "mimetype": "text/x-python",
      "name": "python",
      "nbconvert_exporter": "python",
      "pygments_lexer": "ipython3",
      "version": "3.9.12"
    },
    "colab": {
      "provenance": []
    }
  },
  "nbformat": 4,
  "nbformat_minor": 0
}
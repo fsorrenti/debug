{
  "cells": [
    {
      "cell_type": "code",
      "source": [
        "! pip install emcee"
      ],
      "metadata": {
        "id": "pEt2PJ9IfxQI",
        "outputId": "0ef89b81-5b5b-4fa2-b9dd-416610fd89f3",
        "colab": {
          "base_uri": "https://localhost:8080/"
        }
      },
      "execution_count": 1,
      "outputs": [
        {
          "output_type": "stream",
          "name": "stdout",
          "text": [
            "Collecting emcee\n",
            "  Downloading emcee-3.1.6-py2.py3-none-any.whl.metadata (3.0 kB)\n",
            "Requirement already satisfied: numpy in /usr/local/lib/python3.10/dist-packages (from emcee) (1.26.4)\n",
            "Downloading emcee-3.1.6-py2.py3-none-any.whl (47 kB)\n",
            "\u001b[?25l   \u001b[90m━━━━━━━━━━━━━━━━━━━━━━━━━━━━━━━━━━━━━━━━\u001b[0m \u001b[32m0.0/47.4 kB\u001b[0m \u001b[31m?\u001b[0m eta \u001b[36m-:--:--\u001b[0m\r\u001b[2K   \u001b[90m━━━━━━━━━━━━━━━━━━━━━━━━━━━━━━━━━━━━━━━━\u001b[0m \u001b[32m47.4/47.4 kB\u001b[0m \u001b[31m2.1 MB/s\u001b[0m eta \u001b[36m0:00:00\u001b[0m\n",
            "\u001b[?25hInstalling collected packages: emcee\n",
            "Successfully installed emcee-3.1.6\n"
          ]
        }
      ]
    },
    {
      "cell_type": "code",
      "source": [
        "! git clone https://github.com/fsorrenti/debug.git"
      ],
      "metadata": {
        "id": "fwdN-cvEg8Ju",
        "outputId": "68ae2c29-971d-4398-c1cb-c68682cf3375",
        "colab": {
          "base_uri": "https://localhost:8080/"
        }
      },
      "execution_count": 6,
      "outputs": [
        {
          "output_type": "stream",
          "name": "stdout",
          "text": [
            "Cloning into 'debug'...\n",
            "remote: Enumerating objects: 8, done.\u001b[K\n",
            "remote: Counting objects: 100% (8/8), done.\u001b[K\n",
            "remote: Compressing objects: 100% (8/8), done.\u001b[K\n",
            "remote: Total 8 (delta 2), reused 3 (delta 0), pack-reused 0 (from 0)\u001b[K\n",
            "Receiving objects: 100% (8/8), 10.07 MiB | 15.82 MiB/s, done.\n",
            "Resolving deltas: 100% (2/2), done.\n"
          ]
        }
      ]
    },
    {
      "cell_type": "code",
      "source": [
        "%cd debug"
      ],
      "metadata": {
        "id": "GreNXtbKgGrr",
        "outputId": "539710d3-1856-4c72-c266-a788cd27116d",
        "colab": {
          "base_uri": "https://localhost:8080/"
        }
      },
      "execution_count": 11,
      "outputs": [
        {
          "output_type": "stream",
          "name": "stdout",
          "text": [
            "/content/debug\n"
          ]
        }
      ]
    },
    {
      "cell_type": "code",
      "execution_count": 24,
      "metadata": {
        "id": "59cT84_JfvxU",
        "outputId": "8c8957a7-b0b5-48c4-a234-b8580fb7c621",
        "colab": {
          "base_uri": "https://localhost:8080/",
          "height": 368
        }
      },
      "outputs": [
        {
          "output_type": "error",
          "ename": "ModuleNotFoundError",
          "evalue": "No module named 'dipole_utilities'",
          "traceback": [
            "\u001b[0;31m---------------------------------------------------------------------------\u001b[0m",
            "\u001b[0;31mModuleNotFoundError\u001b[0m                       Traceback (most recent call last)",
            "\u001b[0;32m<ipython-input-24-a4060a2fa075>\u001b[0m in \u001b[0;36m<cell line: 5>\u001b[0;34m()\u001b[0m\n\u001b[1;32m      3\u001b[0m \u001b[0;32mimport\u001b[0m \u001b[0mnumpy\u001b[0m \u001b[0;32mas\u001b[0m \u001b[0mnp\u001b[0m\u001b[0;34m\u001b[0m\u001b[0;34m\u001b[0m\u001b[0m\n\u001b[1;32m      4\u001b[0m \u001b[0;32mfrom\u001b[0m \u001b[0mscipy\u001b[0m\u001b[0;34m.\u001b[0m\u001b[0mstats\u001b[0m \u001b[0;32mimport\u001b[0m \u001b[0mmultivariate_normal\u001b[0m\u001b[0;34m\u001b[0m\u001b[0;34m\u001b[0m\u001b[0m\n\u001b[0;32m----> 5\u001b[0;31m \u001b[0;32mimport\u001b[0m \u001b[0mdipole_utilities\u001b[0m \u001b[0;32mas\u001b[0m \u001b[0mut\u001b[0m\u001b[0;34m\u001b[0m\u001b[0;34m\u001b[0m\u001b[0m\n\u001b[0m\u001b[1;32m      6\u001b[0m \u001b[0;32mimport\u001b[0m \u001b[0memcee\u001b[0m\u001b[0;34m\u001b[0m\u001b[0;34m\u001b[0m\u001b[0m\n",
            "\u001b[0;31mModuleNotFoundError\u001b[0m: No module named 'dipole_utilities'",
            "",
            "\u001b[0;31m---------------------------------------------------------------------------\u001b[0;32m\nNOTE: If your import is failing due to a missing package, you can\nmanually install dependencies using either !pip or !apt.\n\nTo view examples of installing some common dependencies, click the\n\"Open Examples\" button below.\n\u001b[0;31m---------------------------------------------------------------------------\u001b[0m\n"
          ],
          "errorDetails": {
            "actions": [
              {
                "action": "open_url",
                "actionText": "Open Examples",
                "url": "/notebooks/snippets/importing_libraries.ipynb"
              }
            ]
          }
        }
      ],
      "source": [
        "from __future__ import annotations\n",
        "import sys\n",
        "import numpy as np\n",
        "from scipy.stats import multivariate_normal\n",
        "import dipole_utilities as ut\n",
        "import emcee\n"
      ]
    },
    {
      "cell_type": "code",
      "execution_count": 25,
      "metadata": {
        "id": "mI0Hh4t6fvxY"
      },
      "outputs": [],
      "source": [
        "from astropy.coordinates import SkyCoord, spherical_to_cartesian\n",
        "from astropy import units as u\n",
        "import math as m\n",
        "from scipy import integrate"
      ]
    },
    {
      "cell_type": "code",
      "execution_count": 26,
      "metadata": {
        "id": "Q-cK_4svfvxY"
      },
      "outputs": [],
      "source": [
        "covf = open(\"Pantheon+SH0ES_STAT+SYS.cov\").readlines()\n",
        "covl = np.array(covf, dtype=\"float\")\n",
        "shape = covl[0]  # si prende la misura in questo modo, geniale\n",
        "covmat = covl[1:].reshape((int(shape), int(shape)))\n",
        "\n",
        "inv=np.linalg.inv(covmat)\n",
        "\n",
        "\n",
        "filtered_data_file = np.genfromtxt(\n",
        "    \"Pantheon+SH0ES.dat\", usecols=(4, 10, 12, 13, 26, 27, 31, 8), skip_header=1\n",
        ")\n",
        "\n",
        "\n",
        "z = filtered_data_file[:, 0]\n",
        "mu = filtered_data_file[:, 1]\n",
        "ceph_dis = filtered_data_file[:, 2]\n",
        "is_cal = filtered_data_file[:, 3]\n",
        "ra = filtered_data_file[:, 4]\n",
        "dec = filtered_data_file[:, 5]\n",
        "v_pec = filtered_data_file[:, 6]\n",
        "m_b = filtered_data_file[:, 7]\n"
      ]
    },
    {
      "cell_type": "code",
      "execution_count": 27,
      "metadata": {
        "id": "YcuTGeUgfvxZ"
      },
      "outputs": [],
      "source": [
        "def integrand(z, H0, Omat):\n",
        "    return 1 / (H0 * m.sqrt(Omat * (1 + z) ** 3 + (1 - Omat)))\n",
        "\n",
        "\n",
        "def dl_monopole(z, H0, Omat):\n",
        "    c = 299792.458\n",
        "    return (\n",
        "        c * (1 + z) * integrate.romberg(integrand, 0, z, args=(H0, Omat))\n",
        "    )  # return quad(integrand, 0, z, args=(H0, Omat, Olam))[0]"
      ]
    },
    {
      "cell_type": "code",
      "execution_count": 28,
      "metadata": {
        "id": "OfaZsA2yfvxZ"
      },
      "outputs": [],
      "source": [
        "def monopole(z, H0, Omat):\n",
        "    return 5 * np.log10((dl_monopole(z, H0, Omat))) + 25"
      ]
    },
    {
      "cell_type": "code",
      "execution_count": 29,
      "metadata": {
        "id": "u7TeyLzDfvxZ"
      },
      "outputs": [],
      "source": [
        "def exp_obs_monopole_with_M(\n",
        "    M, H0, omega_m, mu, z, is_cal, ceph,\n",
        "):\n",
        "    number_of_elements = len(mu)\n",
        "    exp_obs_mon = np.zeros(number_of_elements)\n",
        "\n",
        "    for i in range(0, number_of_elements):\n",
        "        if is_cal[i] == 1:\n",
        "            exp_obs_mon[i] = mu[i] + M - ceph[i]\n",
        "            # exp_obs_mon[i]=mu[i]-monopole(z6[i],H0,omega_m)\n",
        "        else:\n",
        "            exp_obs_mon[i] = mu[i] + M - monopole(z[i], H0, omega_m)\n",
        "\n",
        "    return exp_obs_mon"
      ]
    },
    {
      "cell_type": "code",
      "execution_count": 30,
      "metadata": {
        "id": "MOVuV2Utfvxa"
      },
      "outputs": [],
      "source": [
        "def log_likelihood_agnostic(parameters: list[float], inversed_covariance):\n",
        "\n",
        "    '''the following for the agnostic taylor expansion'''\n",
        "#    d1, d2, d3, dM  = parameters\n",
        "\n",
        "#    res=residual_agnostic_taylor_expansion(d1, d2, d3, dM )\n",
        "\n",
        "  #  z0, d1, d2, d3, dM  = parameters\n",
        "\n",
        "    Omat,dM  = parameters\n",
        "\n",
        "\n",
        "\n",
        "    res=exp_obs_monopole_with_M(dM,73.4, Omat, mu, z, is_cal, ceph_dis)\n",
        "\n",
        "\n",
        "    chi2 = res @ inversed_covariance @ res\n",
        "    return -0.5 * chi2  # normalization is constant so can be omitted\n"
      ]
    },
    {
      "cell_type": "code",
      "execution_count": 31,
      "metadata": {
        "id": "wX9B2T-bfvxa"
      },
      "outputs": [],
      "source": [
        "def log_prior(theta, priors):\n",
        "\n",
        "    \"\"\"\n",
        "    log-prior for the parameters (uniform)\n",
        "    \"\"\"\n",
        "    # theta is the free parameters, priors is a list of two elements\n",
        "    mu, halfwidth = priors\n",
        "    for mu_i, theta_i, halfwidth_i in zip(mu, theta, halfwidth):\n",
        "        if theta_i > mu_i + halfwidth_i or theta_i < mu_i - halfwidth_i:\n",
        "            return -np.inf\n",
        "    return 0\n"
      ]
    },
    {
      "cell_type": "code",
      "execution_count": 32,
      "metadata": {
        "id": "Rz3gVk-sfvxa"
      },
      "outputs": [],
      "source": [
        "def log_probability(parameters: list[float], priors, inversed_covariance):\n",
        "    \"\"\"\n",
        "    log-probability that governs the rate of acceptance for given proposed parameter.\n",
        "    \"\"\"\n",
        "    lp = log_prior(parameters, priors)\n",
        "    if not np.isfinite(lp):\n",
        "        return -np.inf\n",
        "\n",
        "    ll = log_likelihood_agnostic(parameters, inversed_covariance)\n",
        "    if not np.isfinite(ll):\n",
        "        return -np.inf\n",
        "\n",
        "    return lp + ll"
      ]
    },
    {
      "cell_type": "code",
      "execution_count": 33,
      "metadata": {
        "id": "BfJtMixnfvxb"
      },
      "outputs": [],
      "source": [
        "def run_MCMC(\n",
        "    nwalkers,\n",
        "    number_of_steps,\n",
        "    parameters_values,\n",
        "    prior_width,\n",
        "    outpath=None,\n",
        "    contd=None,\n",
        "):\n",
        "    \"\"\"\n",
        "    a wrapper file\n",
        "    \"\"\"\n",
        "\n",
        "    inversed_covariance = inv\n",
        "\n",
        "    # inversed_covariance=inversed_covariance_data\n",
        "\n",
        "\n",
        "\n",
        "    if outpath is None:\n",
        "        outpath = \"./results.h5\"\n",
        "    # load data\n",
        "\n",
        "    # priors\n",
        "    reference_values = np.array(parameters_values, dtype=float)\n",
        "    widths = np.array(prior_width)\n",
        "    priors = [reference_values, widths]\n",
        "\n",
        "    # initial guess array for each walker:\n",
        "    x0 = np.random.uniform(\n",
        "        reference_values - widths,\n",
        "        reference_values + widths,\n",
        "        size=(nwalkers, len(reference_values)),\n",
        "    )\n",
        "    nwalkers, ndim = x0.shape\n",
        "\n",
        "    # save file\n",
        "    backend = emcee.backends.HDFBackend(outpath)\n",
        "    if contd:  # it is true if you want to continue the run\n",
        "        print(f\"initial size: {backend.iteration}\", flush=True)\n",
        "    else:\n",
        "        backend.reset(nwalkers, ndim)\n",
        "\n",
        "        # initialize sampler, run MCMC\n",
        "    sampler = emcee.EnsembleSampler(\n",
        "        nwalkers,\n",
        "        ndim,\n",
        "        log_probability,\n",
        "        args=[priors, inversed_covariance],\n",
        "        backend=backend,\n",
        "    )\n",
        "\n",
        "    if contd:\n",
        "        sampler.run_mcmc(\n",
        "            None, number_of_steps, progress=True, skip_initial_state_check=True\n",
        "        )\n",
        "        print(f\"final size: {backend.iteration}\", flush=True)\n",
        "    else:\n",
        "        sampler.run_mcmc(\n",
        "            x0, number_of_steps, progress=True, skip_initial_state_check=True\n",
        "        )\n"
      ]
    },
    {
      "cell_type": "code",
      "execution_count": 34,
      "metadata": {
        "id": "D1Cl3UJxfvxb"
      },
      "outputs": [],
      "source": [
        "# default output file name\n",
        "OUTPATH = \"test_scratch.h5\"\n",
        "\n",
        "# MCMC sampler settings\n",
        "N_WALKERS = 32  # number of walkers\n",
        "N_CHAIN = 1000  # length of chain for each walker\n",
        "CONTD = False  # set CONTD = True to resume sampling (for specific OUTPATH)\n",
        "# note: keeping CONTD = False may overwrite an existing file.\n",
        "\n",
        "PARAMETERS_VALUES = [0.5, 0]#per la mia scelta di angoli il coseno puo' essere solo fra 0 e 1\n",
        "PRIOR_WIDTH = [0.5, 0.5]\n"
      ]
    },
    {
      "cell_type": "code",
      "execution_count": 35,
      "metadata": {
        "id": "CY0u2xT6fvxb",
        "outputId": "c2f6d3ee-3ff8-4f97-b103-dd75dffc2b75",
        "colab": {
          "base_uri": "https://localhost:8080/",
          "height": 1000
        }
      },
      "outputs": [
        {
          "output_type": "stream",
          "name": "stderr",
          "text": [
            "<ipython-input-27-6fc222fc8025>:8: DeprecationWarning: `scipy.integrate.romberg` is deprecated as of SciPy 1.12.0and will be removed in SciPy 1.15.0. Please use`scipy.integrate.quad` instead.\n",
            "  c * (1 + z) * integrate.romberg(integrand, 0, z, args=(H0, Omat))\n",
            "  0%|          | 73/1000000 [05:52<1459:35:34,  5.25s/it]Traceback (most recent call last):\n",
            "  File \"/usr/local/lib/python3.10/dist-packages/emcee/ensemble.py\", line 640, in __call__\n",
            "    return self.f(x, *self.args, **self.kwargs)\n",
            "  File \"<ipython-input-32-817bfee58354>\", line 9, in log_probability\n",
            "    ll = log_likelihood_agnostic(parameters, inversed_covariance)\n",
            "  File \"<ipython-input-30-ee57b9ec58b3>\", line 14, in log_likelihood_agnostic\n",
            "    res=exp_obs_monopole_with_M(dM,73.4, Omat, mu, z, is_cal, ceph_dis)\n",
            "  File \"<ipython-input-29-42f890cadbf2>\", line 12, in exp_obs_monopole_with_M\n",
            "    exp_obs_mon[i] = mu[i] + M - monopole(z[i], H0, omega_m)\n",
            "  File \"<ipython-input-28-f983de8cdca2>\", line 2, in monopole\n",
            "    return 5 * np.log10((dl_monopole(z, H0, Omat))) + 25\n",
            "  File \"<ipython-input-27-6fc222fc8025>\", line 8, in dl_monopole\n",
            "    c * (1 + z) * integrate.romberg(integrand, 0, z, args=(H0, Omat))\n",
            "  File \"/usr/local/lib/python3.10/dist-packages/scipy/_lib/deprecation.py\", line 91, in call\n",
            "    return fun(*args, **kwargs)\n",
            "  File \"/usr/local/lib/python3.10/dist-packages/scipy/integrate/_quadrature.py\", line 1382, in romberg\n",
            "    ordsum += _difftrap(vfunc, interval, n)\n",
            "  File \"/usr/local/lib/python3.10/dist-packages/scipy/integrate/_quadrature.py\", line 1245, in _difftrap\n",
            "    s = np.sum(function(points), axis=0)\n",
            "  File \"/usr/local/lib/python3.10/dist-packages/scipy/integrate/_quadrature.py\", line 312, in vfunc\n",
            "    output[i] = func(x[i], *args)\n",
            "  File \"<ipython-input-27-6fc222fc8025>\", line 2, in integrand\n",
            "    return 1 / (H0 * m.sqrt(Omat * (1 + z) ** 3 + (1 - Omat)))\n",
            "KeyboardInterrupt\n",
            "  0%|          | 73/1000000 [05:55<1351:43:52,  4.87s/it]"
          ]
        },
        {
          "output_type": "stream",
          "name": "stdout",
          "text": [
            "emcee: Exception while calling your likelihood function:\n",
            "  params: [ 0.34257344 -0.0170606 ]\n",
            "  args: [[array([0.5, 0. ]), array([0.5, 0.5])], array([[ 3.35405114e+01, -5.68645204e+00, -1.07870284e-01, ...,\n",
            "         1.44562418e-02,  1.73619146e-02,  6.56463541e-02],\n",
            "       [-5.68645201e+00,  3.26679150e+01,  6.27809019e-01, ...,\n",
            "         5.90524514e-02,  5.86751704e-02,  9.18237282e-02],\n",
            "       [-1.07870328e-01,  6.27808965e-01,  5.66302667e+01, ...,\n",
            "         4.04987268e-02,  6.08045796e-02,  1.44339360e-01],\n",
            "       ...,\n",
            "       [ 1.44562147e-02,  5.90524254e-02,  4.04987139e-02, ...,\n",
            "         2.64804296e+01, -2.56390503e-01, -5.18344051e-01],\n",
            "       [ 1.73618976e-02,  5.86751545e-02,  6.08045714e-02, ...,\n",
            "        -2.56390503e-01,  1.63294720e+01, -4.65796138e-01],\n",
            "       [ 6.56463083e-02,  9.18236857e-02,  1.44339335e-01, ...,\n",
            "        -5.18344052e-01, -4.65796138e-01,  2.87369713e+01]])]\n",
            "  kwargs: {}\n",
            "  exception:\n"
          ]
        },
        {
          "output_type": "stream",
          "name": "stderr",
          "text": [
            "\n"
          ]
        },
        {
          "output_type": "error",
          "ename": "KeyboardInterrupt",
          "evalue": "",
          "traceback": [
            "\u001b[0;31m---------------------------------------------------------------------------\u001b[0m",
            "\u001b[0;31mKeyboardInterrupt\u001b[0m                         Traceback (most recent call last)",
            "\u001b[0;32m<ipython-input-35-480a43a7a145>\u001b[0m in \u001b[0;36m<cell line: 1>\u001b[0;34m()\u001b[0m\n\u001b[1;32m     11\u001b[0m \u001b[0;34m\u001b[0m\u001b[0m\n\u001b[1;32m     12\u001b[0m     \u001b[0;31m# run MCMC\u001b[0m\u001b[0;34m\u001b[0m\u001b[0;34m\u001b[0m\u001b[0m\n\u001b[0;32m---> 13\u001b[0;31m     run_MCMC(\n\u001b[0m\u001b[1;32m     14\u001b[0m         \u001b[0mnwalkers\u001b[0m\u001b[0;34m=\u001b[0m\u001b[0mN_WALKERS\u001b[0m\u001b[0;34m,\u001b[0m\u001b[0;34m\u001b[0m\u001b[0;34m\u001b[0m\u001b[0m\n\u001b[1;32m     15\u001b[0m         \u001b[0mnumber_of_steps\u001b[0m\u001b[0;34m=\u001b[0m\u001b[0mN_CHAIN\u001b[0m\u001b[0;34m,\u001b[0m\u001b[0;34m\u001b[0m\u001b[0;34m\u001b[0m\u001b[0m\n",
            "\u001b[0;32m<ipython-input-33-6699254c0c6c>\u001b[0m in \u001b[0;36mrun_MCMC\u001b[0;34m(nwalkers, number_of_steps, parameters_values, prior_width, outpath, contd)\u001b[0m\n\u001b[1;32m     56\u001b[0m         \u001b[0mprint\u001b[0m\u001b[0;34m(\u001b[0m\u001b[0;34mf\"final size: {backend.iteration}\"\u001b[0m\u001b[0;34m,\u001b[0m \u001b[0mflush\u001b[0m\u001b[0;34m=\u001b[0m\u001b[0;32mTrue\u001b[0m\u001b[0;34m)\u001b[0m\u001b[0;34m\u001b[0m\u001b[0;34m\u001b[0m\u001b[0m\n\u001b[1;32m     57\u001b[0m     \u001b[0;32melse\u001b[0m\u001b[0;34m:\u001b[0m\u001b[0;34m\u001b[0m\u001b[0;34m\u001b[0m\u001b[0m\n\u001b[0;32m---> 58\u001b[0;31m         sampler.run_mcmc(\n\u001b[0m\u001b[1;32m     59\u001b[0m             \u001b[0mx0\u001b[0m\u001b[0;34m,\u001b[0m \u001b[0mnumber_of_steps\u001b[0m\u001b[0;34m,\u001b[0m \u001b[0mprogress\u001b[0m\u001b[0;34m=\u001b[0m\u001b[0;32mTrue\u001b[0m\u001b[0;34m,\u001b[0m \u001b[0mskip_initial_state_check\u001b[0m\u001b[0;34m=\u001b[0m\u001b[0;32mTrue\u001b[0m\u001b[0;34m\u001b[0m\u001b[0;34m\u001b[0m\u001b[0m\n\u001b[1;32m     60\u001b[0m         )\n",
            "\u001b[0;32m/usr/local/lib/python3.10/dist-packages/emcee/ensemble.py\u001b[0m in \u001b[0;36mrun_mcmc\u001b[0;34m(self, initial_state, nsteps, **kwargs)\u001b[0m\n\u001b[1;32m    448\u001b[0m \u001b[0;34m\u001b[0m\u001b[0m\n\u001b[1;32m    449\u001b[0m         \u001b[0mresults\u001b[0m \u001b[0;34m=\u001b[0m \u001b[0;32mNone\u001b[0m\u001b[0;34m\u001b[0m\u001b[0;34m\u001b[0m\u001b[0m\n\u001b[0;32m--> 450\u001b[0;31m         \u001b[0;32mfor\u001b[0m \u001b[0mresults\u001b[0m \u001b[0;32min\u001b[0m \u001b[0mself\u001b[0m\u001b[0;34m.\u001b[0m\u001b[0msample\u001b[0m\u001b[0;34m(\u001b[0m\u001b[0minitial_state\u001b[0m\u001b[0;34m,\u001b[0m \u001b[0miterations\u001b[0m\u001b[0;34m=\u001b[0m\u001b[0mnsteps\u001b[0m\u001b[0;34m,\u001b[0m \u001b[0;34m**\u001b[0m\u001b[0mkwargs\u001b[0m\u001b[0;34m)\u001b[0m\u001b[0;34m:\u001b[0m\u001b[0;34m\u001b[0m\u001b[0;34m\u001b[0m\u001b[0m\n\u001b[0m\u001b[1;32m    451\u001b[0m             \u001b[0;32mpass\u001b[0m\u001b[0;34m\u001b[0m\u001b[0;34m\u001b[0m\u001b[0m\n\u001b[1;32m    452\u001b[0m \u001b[0;34m\u001b[0m\u001b[0m\n",
            "\u001b[0;32m/usr/local/lib/python3.10/dist-packages/emcee/ensemble.py\u001b[0m in \u001b[0;36msample\u001b[0;34m(self, initial_state, log_prob0, rstate0, blobs0, iterations, tune, skip_initial_state_check, thin_by, thin, store, progress, progress_kwargs)\u001b[0m\n\u001b[1;32m    407\u001b[0m \u001b[0;34m\u001b[0m\u001b[0m\n\u001b[1;32m    408\u001b[0m                     \u001b[0;31m# Propose\u001b[0m\u001b[0;34m\u001b[0m\u001b[0;34m\u001b[0m\u001b[0m\n\u001b[0;32m--> 409\u001b[0;31m                     \u001b[0mstate\u001b[0m\u001b[0;34m,\u001b[0m \u001b[0maccepted\u001b[0m \u001b[0;34m=\u001b[0m \u001b[0mmove\u001b[0m\u001b[0;34m.\u001b[0m\u001b[0mpropose\u001b[0m\u001b[0;34m(\u001b[0m\u001b[0mmodel\u001b[0m\u001b[0;34m,\u001b[0m \u001b[0mstate\u001b[0m\u001b[0;34m)\u001b[0m\u001b[0;34m\u001b[0m\u001b[0;34m\u001b[0m\u001b[0m\n\u001b[0m\u001b[1;32m    410\u001b[0m                     \u001b[0mstate\u001b[0m\u001b[0;34m.\u001b[0m\u001b[0mrandom_state\u001b[0m \u001b[0;34m=\u001b[0m \u001b[0mself\u001b[0m\u001b[0;34m.\u001b[0m\u001b[0mrandom_state\u001b[0m\u001b[0;34m\u001b[0m\u001b[0;34m\u001b[0m\u001b[0m\n\u001b[1;32m    411\u001b[0m \u001b[0;34m\u001b[0m\u001b[0m\n",
            "\u001b[0;32m/usr/local/lib/python3.10/dist-packages/emcee/moves/red_blue.py\u001b[0m in \u001b[0;36mpropose\u001b[0;34m(self, model, state)\u001b[0m\n\u001b[1;32m     91\u001b[0m \u001b[0;34m\u001b[0m\u001b[0m\n\u001b[1;32m     92\u001b[0m             \u001b[0;31m# Compute the lnprobs of the proposed position.\u001b[0m\u001b[0;34m\u001b[0m\u001b[0;34m\u001b[0m\u001b[0m\n\u001b[0;32m---> 93\u001b[0;31m             \u001b[0mnew_log_probs\u001b[0m\u001b[0;34m,\u001b[0m \u001b[0mnew_blobs\u001b[0m \u001b[0;34m=\u001b[0m \u001b[0mmodel\u001b[0m\u001b[0;34m.\u001b[0m\u001b[0mcompute_log_prob_fn\u001b[0m\u001b[0;34m(\u001b[0m\u001b[0mq\u001b[0m\u001b[0;34m)\u001b[0m\u001b[0;34m\u001b[0m\u001b[0;34m\u001b[0m\u001b[0m\n\u001b[0m\u001b[1;32m     94\u001b[0m \u001b[0;34m\u001b[0m\u001b[0m\n\u001b[1;32m     95\u001b[0m             \u001b[0;31m# Loop over the walkers and update them accordingly.\u001b[0m\u001b[0;34m\u001b[0m\u001b[0;34m\u001b[0m\u001b[0m\n",
            "\u001b[0;32m/usr/local/lib/python3.10/dist-packages/emcee/ensemble.py\u001b[0m in \u001b[0;36mcompute_log_prob\u001b[0;34m(self, coords)\u001b[0m\n\u001b[1;32m    494\u001b[0m             \u001b[0;32melse\u001b[0m\u001b[0;34m:\u001b[0m\u001b[0;34m\u001b[0m\u001b[0;34m\u001b[0m\u001b[0m\n\u001b[1;32m    495\u001b[0m                 \u001b[0mmap_func\u001b[0m \u001b[0;34m=\u001b[0m \u001b[0mmap\u001b[0m\u001b[0;34m\u001b[0m\u001b[0;34m\u001b[0m\u001b[0m\n\u001b[0;32m--> 496\u001b[0;31m             \u001b[0mresults\u001b[0m \u001b[0;34m=\u001b[0m \u001b[0mlist\u001b[0m\u001b[0;34m(\u001b[0m\u001b[0mmap_func\u001b[0m\u001b[0;34m(\u001b[0m\u001b[0mself\u001b[0m\u001b[0;34m.\u001b[0m\u001b[0mlog_prob_fn\u001b[0m\u001b[0;34m,\u001b[0m \u001b[0mp\u001b[0m\u001b[0;34m)\u001b[0m\u001b[0;34m)\u001b[0m\u001b[0;34m\u001b[0m\u001b[0;34m\u001b[0m\u001b[0m\n\u001b[0m\u001b[1;32m    497\u001b[0m \u001b[0;34m\u001b[0m\u001b[0m\n\u001b[1;32m    498\u001b[0m         \u001b[0;32mtry\u001b[0m\u001b[0;34m:\u001b[0m\u001b[0;34m\u001b[0m\u001b[0;34m\u001b[0m\u001b[0m\n",
            "\u001b[0;32m/usr/local/lib/python3.10/dist-packages/emcee/ensemble.py\u001b[0m in \u001b[0;36m__call__\u001b[0;34m(self, x)\u001b[0m\n\u001b[1;32m    638\u001b[0m     \u001b[0;32mdef\u001b[0m \u001b[0m__call__\u001b[0m\u001b[0;34m(\u001b[0m\u001b[0mself\u001b[0m\u001b[0;34m,\u001b[0m \u001b[0mx\u001b[0m\u001b[0;34m)\u001b[0m\u001b[0;34m:\u001b[0m\u001b[0;34m\u001b[0m\u001b[0;34m\u001b[0m\u001b[0m\n\u001b[1;32m    639\u001b[0m         \u001b[0;32mtry\u001b[0m\u001b[0;34m:\u001b[0m\u001b[0;34m\u001b[0m\u001b[0;34m\u001b[0m\u001b[0m\n\u001b[0;32m--> 640\u001b[0;31m             \u001b[0;32mreturn\u001b[0m \u001b[0mself\u001b[0m\u001b[0;34m.\u001b[0m\u001b[0mf\u001b[0m\u001b[0;34m(\u001b[0m\u001b[0mx\u001b[0m\u001b[0;34m,\u001b[0m \u001b[0;34m*\u001b[0m\u001b[0mself\u001b[0m\u001b[0;34m.\u001b[0m\u001b[0margs\u001b[0m\u001b[0;34m,\u001b[0m \u001b[0;34m**\u001b[0m\u001b[0mself\u001b[0m\u001b[0;34m.\u001b[0m\u001b[0mkwargs\u001b[0m\u001b[0;34m)\u001b[0m\u001b[0;34m\u001b[0m\u001b[0;34m\u001b[0m\u001b[0m\n\u001b[0m\u001b[1;32m    641\u001b[0m         \u001b[0;32mexcept\u001b[0m\u001b[0;34m:\u001b[0m  \u001b[0;31m# pragma: no cover\u001b[0m\u001b[0;34m\u001b[0m\u001b[0;34m\u001b[0m\u001b[0m\n\u001b[1;32m    642\u001b[0m             \u001b[0;32mimport\u001b[0m \u001b[0mtraceback\u001b[0m\u001b[0;34m\u001b[0m\u001b[0;34m\u001b[0m\u001b[0m\n",
            "\u001b[0;32m<ipython-input-32-817bfee58354>\u001b[0m in \u001b[0;36mlog_probability\u001b[0;34m(parameters, priors, inversed_covariance)\u001b[0m\n\u001b[1;32m      7\u001b[0m         \u001b[0;32mreturn\u001b[0m \u001b[0;34m-\u001b[0m\u001b[0mnp\u001b[0m\u001b[0;34m.\u001b[0m\u001b[0minf\u001b[0m\u001b[0;34m\u001b[0m\u001b[0;34m\u001b[0m\u001b[0m\n\u001b[1;32m      8\u001b[0m \u001b[0;34m\u001b[0m\u001b[0m\n\u001b[0;32m----> 9\u001b[0;31m     \u001b[0mll\u001b[0m \u001b[0;34m=\u001b[0m \u001b[0mlog_likelihood_agnostic\u001b[0m\u001b[0;34m(\u001b[0m\u001b[0mparameters\u001b[0m\u001b[0;34m,\u001b[0m \u001b[0minversed_covariance\u001b[0m\u001b[0;34m)\u001b[0m\u001b[0;34m\u001b[0m\u001b[0;34m\u001b[0m\u001b[0m\n\u001b[0m\u001b[1;32m     10\u001b[0m     \u001b[0;32mif\u001b[0m \u001b[0;32mnot\u001b[0m \u001b[0mnp\u001b[0m\u001b[0;34m.\u001b[0m\u001b[0misfinite\u001b[0m\u001b[0;34m(\u001b[0m\u001b[0mll\u001b[0m\u001b[0;34m)\u001b[0m\u001b[0;34m:\u001b[0m\u001b[0;34m\u001b[0m\u001b[0;34m\u001b[0m\u001b[0m\n\u001b[1;32m     11\u001b[0m         \u001b[0;32mreturn\u001b[0m \u001b[0;34m-\u001b[0m\u001b[0mnp\u001b[0m\u001b[0;34m.\u001b[0m\u001b[0minf\u001b[0m\u001b[0;34m\u001b[0m\u001b[0;34m\u001b[0m\u001b[0m\n",
            "\u001b[0;32m<ipython-input-30-ee57b9ec58b3>\u001b[0m in \u001b[0;36mlog_likelihood_agnostic\u001b[0;34m(parameters, inversed_covariance)\u001b[0m\n\u001b[1;32m     12\u001b[0m \u001b[0;34m\u001b[0m\u001b[0m\n\u001b[1;32m     13\u001b[0m \u001b[0;34m\u001b[0m\u001b[0m\n\u001b[0;32m---> 14\u001b[0;31m     \u001b[0mres\u001b[0m\u001b[0;34m=\u001b[0m\u001b[0mexp_obs_monopole_with_M\u001b[0m\u001b[0;34m(\u001b[0m\u001b[0mdM\u001b[0m\u001b[0;34m,\u001b[0m\u001b[0;36m73.4\u001b[0m\u001b[0;34m,\u001b[0m \u001b[0mOmat\u001b[0m\u001b[0;34m,\u001b[0m \u001b[0mmu\u001b[0m\u001b[0;34m,\u001b[0m \u001b[0mz\u001b[0m\u001b[0;34m,\u001b[0m \u001b[0mis_cal\u001b[0m\u001b[0;34m,\u001b[0m \u001b[0mceph_dis\u001b[0m\u001b[0;34m)\u001b[0m\u001b[0;34m\u001b[0m\u001b[0;34m\u001b[0m\u001b[0m\n\u001b[0m\u001b[1;32m     15\u001b[0m \u001b[0;34m\u001b[0m\u001b[0m\n\u001b[1;32m     16\u001b[0m \u001b[0;34m\u001b[0m\u001b[0m\n",
            "\u001b[0;32m<ipython-input-29-42f890cadbf2>\u001b[0m in \u001b[0;36mexp_obs_monopole_with_M\u001b[0;34m(M, H0, omega_m, mu, z, is_cal, ceph)\u001b[0m\n\u001b[1;32m     10\u001b[0m             \u001b[0;31m# exp_obs_mon[i]=mu[i]-monopole(z6[i],H0,omega_m)\u001b[0m\u001b[0;34m\u001b[0m\u001b[0;34m\u001b[0m\u001b[0m\n\u001b[1;32m     11\u001b[0m         \u001b[0;32melse\u001b[0m\u001b[0;34m:\u001b[0m\u001b[0;34m\u001b[0m\u001b[0;34m\u001b[0m\u001b[0m\n\u001b[0;32m---> 12\u001b[0;31m             \u001b[0mexp_obs_mon\u001b[0m\u001b[0;34m[\u001b[0m\u001b[0mi\u001b[0m\u001b[0;34m]\u001b[0m \u001b[0;34m=\u001b[0m \u001b[0mmu\u001b[0m\u001b[0;34m[\u001b[0m\u001b[0mi\u001b[0m\u001b[0;34m]\u001b[0m \u001b[0;34m+\u001b[0m \u001b[0mM\u001b[0m \u001b[0;34m-\u001b[0m \u001b[0mmonopole\u001b[0m\u001b[0;34m(\u001b[0m\u001b[0mz\u001b[0m\u001b[0;34m[\u001b[0m\u001b[0mi\u001b[0m\u001b[0;34m]\u001b[0m\u001b[0;34m,\u001b[0m \u001b[0mH0\u001b[0m\u001b[0;34m,\u001b[0m \u001b[0momega_m\u001b[0m\u001b[0;34m)\u001b[0m\u001b[0;34m\u001b[0m\u001b[0;34m\u001b[0m\u001b[0m\n\u001b[0m\u001b[1;32m     13\u001b[0m \u001b[0;34m\u001b[0m\u001b[0m\n\u001b[1;32m     14\u001b[0m     \u001b[0;32mreturn\u001b[0m \u001b[0mexp_obs_mon\u001b[0m\u001b[0;34m\u001b[0m\u001b[0;34m\u001b[0m\u001b[0m\n",
            "\u001b[0;32m<ipython-input-28-f983de8cdca2>\u001b[0m in \u001b[0;36mmonopole\u001b[0;34m(z, H0, Omat)\u001b[0m\n\u001b[1;32m      1\u001b[0m \u001b[0;32mdef\u001b[0m \u001b[0mmonopole\u001b[0m\u001b[0;34m(\u001b[0m\u001b[0mz\u001b[0m\u001b[0;34m,\u001b[0m \u001b[0mH0\u001b[0m\u001b[0;34m,\u001b[0m \u001b[0mOmat\u001b[0m\u001b[0;34m)\u001b[0m\u001b[0;34m:\u001b[0m\u001b[0;34m\u001b[0m\u001b[0;34m\u001b[0m\u001b[0m\n\u001b[0;32m----> 2\u001b[0;31m     \u001b[0;32mreturn\u001b[0m \u001b[0;36m5\u001b[0m \u001b[0;34m*\u001b[0m \u001b[0mnp\u001b[0m\u001b[0;34m.\u001b[0m\u001b[0mlog10\u001b[0m\u001b[0;34m(\u001b[0m\u001b[0;34m(\u001b[0m\u001b[0mdl_monopole\u001b[0m\u001b[0;34m(\u001b[0m\u001b[0mz\u001b[0m\u001b[0;34m,\u001b[0m \u001b[0mH0\u001b[0m\u001b[0;34m,\u001b[0m \u001b[0mOmat\u001b[0m\u001b[0;34m)\u001b[0m\u001b[0;34m)\u001b[0m\u001b[0;34m)\u001b[0m \u001b[0;34m+\u001b[0m \u001b[0;36m25\u001b[0m\u001b[0;34m\u001b[0m\u001b[0;34m\u001b[0m\u001b[0m\n\u001b[0m",
            "\u001b[0;32m<ipython-input-27-6fc222fc8025>\u001b[0m in \u001b[0;36mdl_monopole\u001b[0;34m(z, H0, Omat)\u001b[0m\n\u001b[1;32m      6\u001b[0m     \u001b[0mc\u001b[0m \u001b[0;34m=\u001b[0m \u001b[0;36m299792.458\u001b[0m\u001b[0;34m\u001b[0m\u001b[0;34m\u001b[0m\u001b[0m\n\u001b[1;32m      7\u001b[0m     return (\n\u001b[0;32m----> 8\u001b[0;31m         \u001b[0mc\u001b[0m \u001b[0;34m*\u001b[0m \u001b[0;34m(\u001b[0m\u001b[0;36m1\u001b[0m \u001b[0;34m+\u001b[0m \u001b[0mz\u001b[0m\u001b[0;34m)\u001b[0m \u001b[0;34m*\u001b[0m \u001b[0mintegrate\u001b[0m\u001b[0;34m.\u001b[0m\u001b[0mromberg\u001b[0m\u001b[0;34m(\u001b[0m\u001b[0mintegrand\u001b[0m\u001b[0;34m,\u001b[0m \u001b[0;36m0\u001b[0m\u001b[0;34m,\u001b[0m \u001b[0mz\u001b[0m\u001b[0;34m,\u001b[0m \u001b[0margs\u001b[0m\u001b[0;34m=\u001b[0m\u001b[0;34m(\u001b[0m\u001b[0mH0\u001b[0m\u001b[0;34m,\u001b[0m \u001b[0mOmat\u001b[0m\u001b[0;34m)\u001b[0m\u001b[0;34m)\u001b[0m\u001b[0;34m\u001b[0m\u001b[0;34m\u001b[0m\u001b[0m\n\u001b[0m\u001b[1;32m      9\u001b[0m     )  # return quad(integrand, 0, z, args=(H0, Omat, Olam))[0]\n",
            "\u001b[0;32m/usr/local/lib/python3.10/dist-packages/scipy/_lib/deprecation.py\u001b[0m in \u001b[0;36mcall\u001b[0;34m(*args, **kwargs)\u001b[0m\n\u001b[1;32m     89\u001b[0m             warnings.warn(msg, category=DeprecationWarning,\n\u001b[1;32m     90\u001b[0m                           stacklevel=stacklevel)\n\u001b[0;32m---> 91\u001b[0;31m             \u001b[0;32mreturn\u001b[0m \u001b[0mfun\u001b[0m\u001b[0;34m(\u001b[0m\u001b[0;34m*\u001b[0m\u001b[0margs\u001b[0m\u001b[0;34m,\u001b[0m \u001b[0;34m**\u001b[0m\u001b[0mkwargs\u001b[0m\u001b[0;34m)\u001b[0m\u001b[0;34m\u001b[0m\u001b[0;34m\u001b[0m\u001b[0m\n\u001b[0m\u001b[1;32m     92\u001b[0m         \u001b[0mcall\u001b[0m\u001b[0;34m.\u001b[0m\u001b[0m__doc__\u001b[0m \u001b[0;34m=\u001b[0m \u001b[0mfun\u001b[0m\u001b[0;34m.\u001b[0m\u001b[0m__doc__\u001b[0m\u001b[0;34m\u001b[0m\u001b[0;34m\u001b[0m\u001b[0m\n\u001b[1;32m     93\u001b[0m         \u001b[0;32mreturn\u001b[0m \u001b[0mcall\u001b[0m\u001b[0;34m\u001b[0m\u001b[0;34m\u001b[0m\u001b[0m\n",
            "\u001b[0;32m/usr/local/lib/python3.10/dist-packages/scipy/integrate/_quadrature.py\u001b[0m in \u001b[0;36mromberg\u001b[0;34m(function, a, b, args, tol, rtol, show, divmax, vec_func)\u001b[0m\n\u001b[1;32m   1380\u001b[0m     \u001b[0;32mfor\u001b[0m \u001b[0mi\u001b[0m \u001b[0;32min\u001b[0m \u001b[0mrange\u001b[0m\u001b[0;34m(\u001b[0m\u001b[0;36m1\u001b[0m\u001b[0;34m,\u001b[0m \u001b[0mdivmax\u001b[0m\u001b[0;34m+\u001b[0m\u001b[0;36m1\u001b[0m\u001b[0;34m)\u001b[0m\u001b[0;34m:\u001b[0m\u001b[0;34m\u001b[0m\u001b[0;34m\u001b[0m\u001b[0m\n\u001b[1;32m   1381\u001b[0m         \u001b[0mn\u001b[0m \u001b[0;34m*=\u001b[0m \u001b[0;36m2\u001b[0m\u001b[0;34m\u001b[0m\u001b[0;34m\u001b[0m\u001b[0m\n\u001b[0;32m-> 1382\u001b[0;31m         \u001b[0mordsum\u001b[0m \u001b[0;34m+=\u001b[0m \u001b[0m_difftrap\u001b[0m\u001b[0;34m(\u001b[0m\u001b[0mvfunc\u001b[0m\u001b[0;34m,\u001b[0m \u001b[0minterval\u001b[0m\u001b[0;34m,\u001b[0m \u001b[0mn\u001b[0m\u001b[0;34m)\u001b[0m\u001b[0;34m\u001b[0m\u001b[0;34m\u001b[0m\u001b[0m\n\u001b[0m\u001b[1;32m   1383\u001b[0m         \u001b[0mrow\u001b[0m \u001b[0;34m=\u001b[0m \u001b[0;34m[\u001b[0m\u001b[0mintrange\u001b[0m \u001b[0;34m*\u001b[0m \u001b[0mordsum\u001b[0m \u001b[0;34m/\u001b[0m \u001b[0mn\u001b[0m\u001b[0;34m]\u001b[0m\u001b[0;34m\u001b[0m\u001b[0;34m\u001b[0m\u001b[0m\n\u001b[1;32m   1384\u001b[0m         \u001b[0;32mfor\u001b[0m \u001b[0mk\u001b[0m \u001b[0;32min\u001b[0m \u001b[0mrange\u001b[0m\u001b[0;34m(\u001b[0m\u001b[0mi\u001b[0m\u001b[0;34m)\u001b[0m\u001b[0;34m:\u001b[0m\u001b[0;34m\u001b[0m\u001b[0;34m\u001b[0m\u001b[0m\n",
            "\u001b[0;32m/usr/local/lib/python3.10/dist-packages/scipy/integrate/_quadrature.py\u001b[0m in \u001b[0;36m_difftrap\u001b[0;34m(function, interval, numtraps)\u001b[0m\n\u001b[1;32m   1243\u001b[0m         \u001b[0mlox\u001b[0m \u001b[0;34m=\u001b[0m \u001b[0minterval\u001b[0m\u001b[0;34m[\u001b[0m\u001b[0;36m0\u001b[0m\u001b[0;34m]\u001b[0m \u001b[0;34m+\u001b[0m \u001b[0;36m0.5\u001b[0m \u001b[0;34m*\u001b[0m \u001b[0mh\u001b[0m\u001b[0;34m\u001b[0m\u001b[0;34m\u001b[0m\u001b[0m\n\u001b[1;32m   1244\u001b[0m         \u001b[0mpoints\u001b[0m \u001b[0;34m=\u001b[0m \u001b[0mlox\u001b[0m \u001b[0;34m+\u001b[0m \u001b[0mh\u001b[0m \u001b[0;34m*\u001b[0m \u001b[0mnp\u001b[0m\u001b[0;34m.\u001b[0m\u001b[0marange\u001b[0m\u001b[0;34m(\u001b[0m\u001b[0mnumtosum\u001b[0m\u001b[0;34m)\u001b[0m\u001b[0;34m\u001b[0m\u001b[0;34m\u001b[0m\u001b[0m\n\u001b[0;32m-> 1245\u001b[0;31m         \u001b[0ms\u001b[0m \u001b[0;34m=\u001b[0m \u001b[0mnp\u001b[0m\u001b[0;34m.\u001b[0m\u001b[0msum\u001b[0m\u001b[0;34m(\u001b[0m\u001b[0mfunction\u001b[0m\u001b[0;34m(\u001b[0m\u001b[0mpoints\u001b[0m\u001b[0;34m)\u001b[0m\u001b[0;34m,\u001b[0m \u001b[0maxis\u001b[0m\u001b[0;34m=\u001b[0m\u001b[0;36m0\u001b[0m\u001b[0;34m)\u001b[0m\u001b[0;34m\u001b[0m\u001b[0;34m\u001b[0m\u001b[0m\n\u001b[0m\u001b[1;32m   1246\u001b[0m         \u001b[0;32mreturn\u001b[0m \u001b[0ms\u001b[0m\u001b[0;34m\u001b[0m\u001b[0;34m\u001b[0m\u001b[0m\n\u001b[1;32m   1247\u001b[0m \u001b[0;34m\u001b[0m\u001b[0m\n",
            "\u001b[0;32m/usr/local/lib/python3.10/dist-packages/scipy/integrate/_quadrature.py\u001b[0m in \u001b[0;36mvfunc\u001b[0;34m(x)\u001b[0m\n\u001b[1;32m    310\u001b[0m             \u001b[0moutput\u001b[0m\u001b[0;34m[\u001b[0m\u001b[0;36m0\u001b[0m\u001b[0;34m]\u001b[0m \u001b[0;34m=\u001b[0m \u001b[0my0\u001b[0m\u001b[0;34m\u001b[0m\u001b[0;34m\u001b[0m\u001b[0m\n\u001b[1;32m    311\u001b[0m             \u001b[0;32mfor\u001b[0m \u001b[0mi\u001b[0m \u001b[0;32min\u001b[0m \u001b[0mrange\u001b[0m\u001b[0;34m(\u001b[0m\u001b[0;36m1\u001b[0m\u001b[0;34m,\u001b[0m \u001b[0mn\u001b[0m\u001b[0;34m)\u001b[0m\u001b[0;34m:\u001b[0m\u001b[0;34m\u001b[0m\u001b[0;34m\u001b[0m\u001b[0m\n\u001b[0;32m--> 312\u001b[0;31m                 \u001b[0moutput\u001b[0m\u001b[0;34m[\u001b[0m\u001b[0mi\u001b[0m\u001b[0;34m]\u001b[0m \u001b[0;34m=\u001b[0m \u001b[0mfunc\u001b[0m\u001b[0;34m(\u001b[0m\u001b[0mx\u001b[0m\u001b[0;34m[\u001b[0m\u001b[0mi\u001b[0m\u001b[0;34m]\u001b[0m\u001b[0;34m,\u001b[0m \u001b[0;34m*\u001b[0m\u001b[0margs\u001b[0m\u001b[0;34m)\u001b[0m\u001b[0;34m\u001b[0m\u001b[0;34m\u001b[0m\u001b[0m\n\u001b[0m\u001b[1;32m    313\u001b[0m             \u001b[0;32mreturn\u001b[0m \u001b[0moutput\u001b[0m\u001b[0;34m\u001b[0m\u001b[0;34m\u001b[0m\u001b[0m\n\u001b[1;32m    314\u001b[0m     \u001b[0;32mreturn\u001b[0m \u001b[0mvfunc\u001b[0m\u001b[0;34m\u001b[0m\u001b[0;34m\u001b[0m\u001b[0m\n",
            "\u001b[0;32m<ipython-input-27-6fc222fc8025>\u001b[0m in \u001b[0;36mintegrand\u001b[0;34m(z, H0, Omat)\u001b[0m\n\u001b[1;32m      1\u001b[0m \u001b[0;32mdef\u001b[0m \u001b[0mintegrand\u001b[0m\u001b[0;34m(\u001b[0m\u001b[0mz\u001b[0m\u001b[0;34m,\u001b[0m \u001b[0mH0\u001b[0m\u001b[0;34m,\u001b[0m \u001b[0mOmat\u001b[0m\u001b[0;34m)\u001b[0m\u001b[0;34m:\u001b[0m\u001b[0;34m\u001b[0m\u001b[0;34m\u001b[0m\u001b[0m\n\u001b[0;32m----> 2\u001b[0;31m     \u001b[0;32mreturn\u001b[0m \u001b[0;36m1\u001b[0m \u001b[0;34m/\u001b[0m \u001b[0;34m(\u001b[0m\u001b[0mH0\u001b[0m \u001b[0;34m*\u001b[0m \u001b[0mm\u001b[0m\u001b[0;34m.\u001b[0m\u001b[0msqrt\u001b[0m\u001b[0;34m(\u001b[0m\u001b[0mOmat\u001b[0m \u001b[0;34m*\u001b[0m \u001b[0;34m(\u001b[0m\u001b[0;36m1\u001b[0m \u001b[0;34m+\u001b[0m \u001b[0mz\u001b[0m\u001b[0;34m)\u001b[0m \u001b[0;34m**\u001b[0m \u001b[0;36m3\u001b[0m \u001b[0;34m+\u001b[0m \u001b[0;34m(\u001b[0m\u001b[0;36m1\u001b[0m \u001b[0;34m-\u001b[0m \u001b[0mOmat\u001b[0m\u001b[0;34m)\u001b[0m\u001b[0;34m)\u001b[0m\u001b[0;34m)\u001b[0m\u001b[0;34m\u001b[0m\u001b[0;34m\u001b[0m\u001b[0m\n\u001b[0m\u001b[1;32m      3\u001b[0m \u001b[0;34m\u001b[0m\u001b[0m\n\u001b[1;32m      4\u001b[0m \u001b[0;34m\u001b[0m\u001b[0m\n\u001b[1;32m      5\u001b[0m \u001b[0;32mdef\u001b[0m \u001b[0mdl_monopole\u001b[0m\u001b[0;34m(\u001b[0m\u001b[0mz\u001b[0m\u001b[0;34m,\u001b[0m \u001b[0mH0\u001b[0m\u001b[0;34m,\u001b[0m \u001b[0mOmat\u001b[0m\u001b[0;34m)\u001b[0m\u001b[0;34m:\u001b[0m\u001b[0;34m\u001b[0m\u001b[0;34m\u001b[0m\u001b[0m\n",
            "\u001b[0;31mKeyboardInterrupt\u001b[0m: "
          ]
        }
      ],
      "source": [
        "if __name__ == \"__main__\":  # it just execute the function\n",
        "    # load least-square, bets-fit results by default\n",
        "    #\n",
        "    # note:\n",
        "    # Passing manually defined arrays to 'lstsq_results' argument\n",
        "    # and setting PRIOR_WIDTH_RATIO = 0 will allow users to define\n",
        "    # the desired central values and width of the prior manually.\n",
        "    # If you wish to use different (e.g., Gaussian) priors, define\n",
        "    # the analytic Gaussian function in MCMC_utils.py file accordingly.\n",
        "    # q_lstsq, sigma_lstsq = np.loadtxt(lstsq_results_path, unpack=True)\n",
        "\n",
        "    # run MCMC\n",
        "    run_MCMC(\n",
        "        nwalkers=N_WALKERS,\n",
        "        number_of_steps=N_CHAIN,\n",
        "        parameters_values=PARAMETERS_VALUES,\n",
        "        prior_width=PRIOR_WIDTH,\n",
        "        outpath=OUTPATH,\n",
        "        contd=CONTD,\n",
        "    )\n"
      ]
    },
    {
      "cell_type": "code",
      "execution_count": null,
      "metadata": {
        "id": "kO3jnmSzfvxb"
      },
      "outputs": [],
      "source": []
    }
  ],
  "metadata": {
    "kernelspec": {
      "display_name": "base",
      "language": "python",
      "name": "python3"
    },
    "language_info": {
      "codemirror_mode": {
        "name": "ipython",
        "version": 3
      },
      "file_extension": ".py",
      "mimetype": "text/x-python",
      "name": "python",
      "nbconvert_exporter": "python",
      "pygments_lexer": "ipython3",
      "version": "3.9.12"
    },
    "colab": {
      "provenance": []
    }
  },
  "nbformat": 4,
  "nbformat_minor": 0
}